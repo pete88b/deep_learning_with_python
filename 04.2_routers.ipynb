{
 "cells": [
  {
   "cell_type": "code",
   "execution_count": 1,
   "id": "9eb02b25",
   "metadata": {},
   "outputs": [],
   "source": [
    "from utils.all import *\n",
    "import tensorflow as tf\n",
    "from tensorflow import keras\n",
    "from tensorflow.keras.datasets import reuters\n",
    "import numpy as np"
   ]
  },
  {
   "cell_type": "code",
   "execution_count": 2,
   "id": "722f7731",
   "metadata": {},
   "outputs": [],
   "source": [
    "(train_data, train_labels), (test_data, test_labels) = reuters.load_data(num_words=10000)"
   ]
  },
  {
   "cell_type": "code",
   "execution_count": 3,
   "id": "f48180ad",
   "metadata": {},
   "outputs": [
    {
     "data": {
      "text/plain": [
       "(8982, 2246)"
      ]
     },
     "execution_count": 3,
     "metadata": {},
     "output_type": "execute_result"
    }
   ],
   "source": [
    "len(train_data), len(test_data)"
   ]
  },
  {
   "cell_type": "code",
   "execution_count": 4,
   "id": "f1618bf0",
   "metadata": {},
   "outputs": [
    {
     "data": {
      "text/plain": [
       "[1, 2, 2, 8, 43, 10, 447, 5, 25, 207]"
      ]
     },
     "execution_count": 4,
     "metadata": {},
     "output_type": "execute_result"
    }
   ],
   "source": [
    "train_data[0][:10]"
   ]
  },
  {
   "cell_type": "code",
   "execution_count": 5,
   "id": "7d5e6866",
   "metadata": {},
   "outputs": [],
   "source": [
    "word_index = reuters.get_word_index()"
   ]
  },
  {
   "cell_type": "code",
   "execution_count": 6,
   "id": "b15b8746",
   "metadata": {},
   "outputs": [],
   "source": [
    "index_word = {v:k for k,v in word_index.items()}\n",
    "index_word[-3] = '_PAD_'\n",
    "index_word[-2] = '_START_'\n",
    "index_word[-1] = '_UNK_'"
   ]
  },
  {
   "cell_type": "code",
   "execution_count": 7,
   "id": "62c38639",
   "metadata": {},
   "outputs": [
    {
     "data": {
      "text/plain": [
       "'_START_ _UNK_ _UNK_ said as a result of its december acquisition of space co it expects earnings per share in 1987 of 1 15 to 1 30 dlrs per share up from 70 cts in 1986 the company said pretax net should rise to nine to 10 mln dlrs from six mln dlrs in 1986 and rental operation revenues to 19 to 22 mln dlrs from 12 5 mln dlrs it said cash flow per share this year should be 2 50 to three dlrs reuter 3'"
      ]
     },
     "execution_count": 7,
     "metadata": {},
     "output_type": "execute_result"
    }
   ],
   "source": [
    "' '.join([index_word.get(i-3, '?') for i in train_data[0]])"
   ]
  },
  {
   "cell_type": "code",
   "execution_count": 8,
   "id": "6071433f",
   "metadata": {},
   "outputs": [],
   "source": [
    "def vectorize_sequences(sequences, dimension=10000):\n",
    "    result = np.zeros([len(sequences), dimension])\n",
    "    for i, sequence in enumerate(sequences):\n",
    "        for s in sequence:\n",
    "            result[i,s] = 1.\n",
    "    return result"
   ]
  },
  {
   "cell_type": "code",
   "execution_count": 9,
   "id": "2598184d",
   "metadata": {},
   "outputs": [],
   "source": [
    "x_train, x_test = [vectorize_sequences(s) for s in [train_data, test_data]]"
   ]
  },
  {
   "cell_type": "code",
   "execution_count": 10,
   "id": "c84bf4ad",
   "metadata": {},
   "outputs": [],
   "source": [
    "def to_one_hot(labels, dimension=46):\n",
    "    result = np.zeros([len(labels), dimension])\n",
    "    for i, label in enumerate(labels):\n",
    "        result[i, label] = 1.\n",
    "    return result"
   ]
  },
  {
   "cell_type": "code",
   "execution_count": 11,
   "id": "e831e09b",
   "metadata": {},
   "outputs": [],
   "source": [
    "y_train, y_test = [to_one_hot(l) for l in [train_labels, test_labels]]"
   ]
  },
  {
   "cell_type": "code",
   "execution_count": 12,
   "id": "4cec42df",
   "metadata": {},
   "outputs": [],
   "source": [
    "model = keras.Sequential([\n",
    "    keras.layers.Dense(64, activation='relu'),\n",
    "    keras.layers.Dense(64, activation='relu'),\n",
    "    keras.layers.Dense(46, activation='softmax')\n",
    "])"
   ]
  },
  {
   "cell_type": "code",
   "execution_count": 13,
   "id": "af0703c5",
   "metadata": {},
   "outputs": [],
   "source": [
    "model.compile(optimizer='rmsprop', loss='categorical_crossentropy', metrics=['accuracy'])"
   ]
  },
  {
   "cell_type": "code",
   "execution_count": 14,
   "id": "5e5a636f",
   "metadata": {},
   "outputs": [],
   "source": [
    "x_val = x_train[:1000]\n",
    "partial_x_train = x_train[1000:]\n",
    "y_val = y_train[:1000]\n",
    "partial_y_train = y_train[1000:]"
   ]
  },
  {
   "cell_type": "code",
   "execution_count": 15,
   "id": "08f664e4",
   "metadata": {},
   "outputs": [
    {
     "data": {
      "text/plain": [
       "(7982, 10000)"
      ]
     },
     "execution_count": 15,
     "metadata": {},
     "output_type": "execute_result"
    }
   ],
   "source": [
    "partial_x_train.shape"
   ]
  },
  {
   "cell_type": "code",
   "execution_count": 16,
   "id": "af1132bb",
   "metadata": {},
   "outputs": [
    {
     "name": "stdout",
     "output_type": "stream",
     "text": [
      "Epoch 1/20\n",
      "16/16 [==============================] - 2s 55ms/step - loss: 2.8271 - accuracy: 0.5395 - val_loss: 1.8090 - val_accuracy: 0.6420\n",
      "Epoch 2/20\n",
      "16/16 [==============================] - 1s 34ms/step - loss: 1.4493 - accuracy: 0.7041 - val_loss: 1.2816 - val_accuracy: 0.7240\n",
      "Epoch 3/20\n",
      "16/16 [==============================] - 1s 33ms/step - loss: 1.0511 - accuracy: 0.7764 - val_loss: 1.1230 - val_accuracy: 0.7470\n",
      "Epoch 4/20\n",
      "16/16 [==============================] - 1s 33ms/step - loss: 0.8291 - accuracy: 0.8175 - val_loss: 1.0292 - val_accuracy: 0.7810\n",
      "Epoch 5/20\n",
      "16/16 [==============================] - 0s 30ms/step - loss: 0.6724 - accuracy: 0.8554 - val_loss: 0.9549 - val_accuracy: 0.8030\n",
      "Epoch 6/20\n",
      "16/16 [==============================] - 0s 32ms/step - loss: 0.5373 - accuracy: 0.8829 - val_loss: 0.9336 - val_accuracy: 0.8070\n",
      "Epoch 7/20\n",
      "16/16 [==============================] - 1s 32ms/step - loss: 0.4395 - accuracy: 0.9059 - val_loss: 0.9011 - val_accuracy: 0.8120\n",
      "Epoch 8/20\n",
      "16/16 [==============================] - 1s 32ms/step - loss: 0.3584 - accuracy: 0.9214 - val_loss: 0.8752 - val_accuracy: 0.8150\n",
      "Epoch 9/20\n",
      "16/16 [==============================] - 0s 30ms/step - loss: 0.2938 - accuracy: 0.9339 - val_loss: 0.9108 - val_accuracy: 0.8100\n",
      "Epoch 10/20\n",
      "16/16 [==============================] - 0s 30ms/step - loss: 0.2484 - accuracy: 0.9435 - val_loss: 0.9450 - val_accuracy: 0.8130\n",
      "Epoch 11/20\n",
      "16/16 [==============================] - 0s 31ms/step - loss: 0.2161 - accuracy: 0.9480 - val_loss: 0.9276 - val_accuracy: 0.8160\n",
      "Epoch 12/20\n",
      "16/16 [==============================] - 0s 28ms/step - loss: 0.1884 - accuracy: 0.9510 - val_loss: 0.9715 - val_accuracy: 0.8000\n",
      "Epoch 13/20\n",
      "16/16 [==============================] - 1s 37ms/step - loss: 0.1711 - accuracy: 0.9533 - val_loss: 0.9336 - val_accuracy: 0.8200\n",
      "Epoch 14/20\n",
      "16/16 [==============================] - 1s 33ms/step - loss: 0.1523 - accuracy: 0.9545 - val_loss: 1.0203 - val_accuracy: 0.8080\n",
      "Epoch 15/20\n",
      "16/16 [==============================] - 0s 30ms/step - loss: 0.1438 - accuracy: 0.9544 - val_loss: 1.0144 - val_accuracy: 0.8090\n",
      "Epoch 16/20\n",
      "16/16 [==============================] - 0s 31ms/step - loss: 0.1359 - accuracy: 0.9544 - val_loss: 0.9910 - val_accuracy: 0.8080\n",
      "Epoch 17/20\n",
      "16/16 [==============================] - 0s 31ms/step - loss: 0.1213 - accuracy: 0.9588 - val_loss: 1.0055 - val_accuracy: 0.8160\n",
      "Epoch 18/20\n",
      "16/16 [==============================] - 0s 31ms/step - loss: 0.1222 - accuracy: 0.9565 - val_loss: 1.0222 - val_accuracy: 0.8160\n",
      "Epoch 19/20\n",
      "16/16 [==============================] - 0s 29ms/step - loss: 0.1153 - accuracy: 0.9562 - val_loss: 1.1081 - val_accuracy: 0.7960\n",
      "Epoch 20/20\n",
      "16/16 [==============================] - 0s 28ms/step - loss: 0.1116 - accuracy: 0.9583 - val_loss: 1.1313 - val_accuracy: 0.7970\n"
     ]
    }
   ],
   "source": [
    "history = model.fit(\n",
    "    partial_x_train,\n",
    "    partial_y_train,\n",
    "    batch_size=512,\n",
    "    epochs=20,\n",
    "    validation_data=[x_val, y_val]\n",
    ")"
   ]
  },
  {
   "cell_type": "code",
   "execution_count": 17,
   "id": "5eebaf79",
   "metadata": {},
   "outputs": [
    {
     "data": {
      "image/png": "[encoded data removed]",
      "text/plain": [
       "<Figure size 432x288 with 1 Axes>"
      ]
     },
     "metadata": {
      "needs_background": "light"
     },
     "output_type": "display_data"
    },
    {
     "data": {
      "image/png": "[encoded data removed]",
      "text/plain": [
       "<Figure size 432x288 with 1 Axes>"
      ]
     },
     "metadata": {
      "needs_background": "light"
     },
     "output_type": "display_data"
    }
   ],
   "source": [
    "plot_history(history)"
   ]
  },
  {
   "cell_type": "code",
   "execution_count": null,
   "id": "f84571ca",
   "metadata": {},
   "outputs": [],
   "source": []
  },
  {
   "cell_type": "code",
   "execution_count": 18,
   "id": "2d6270ac",
   "metadata": {},
   "outputs": [
    {
     "name": "stdout",
     "output_type": "stream",
     "text": [
      "Epoch 1/9\n",
      "16/16 [==============================] - 1s 41ms/step - loss: 2.6305 - accuracy: 0.5128 - val_loss: 1.7651 - val_accuracy: 0.6470\n",
      "Epoch 2/9\n",
      "16/16 [==============================] - 0s 29ms/step - loss: 1.4376 - accuracy: 0.7156 - val_loss: 1.2968 - val_accuracy: 0.7210\n",
      "Epoch 3/9\n",
      "16/16 [==============================] - 0s 28ms/step - loss: 1.0417 - accuracy: 0.7810 - val_loss: 1.1105 - val_accuracy: 0.7590\n",
      "Epoch 4/9\n",
      "16/16 [==============================] - 0s 29ms/step - loss: 0.8089 - accuracy: 0.8269 - val_loss: 1.0094 - val_accuracy: 0.7970\n",
      "Epoch 5/9\n",
      "16/16 [==============================] - 0s 31ms/step - loss: 0.6333 - accuracy: 0.8712 - val_loss: 0.9463 - val_accuracy: 0.7990\n",
      "Epoch 6/9\n",
      "16/16 [==============================] - 1s 35ms/step - loss: 0.5062 - accuracy: 0.8963 - val_loss: 0.9113 - val_accuracy: 0.8190\n",
      "Epoch 7/9\n",
      "16/16 [==============================] - 1s 33ms/step - loss: 0.4016 - accuracy: 0.9188 - val_loss: 0.8950 - val_accuracy: 0.8190\n",
      "Epoch 8/9\n",
      "16/16 [==============================] - 1s 33ms/step - loss: 0.3319 - accuracy: 0.9296 - val_loss: 0.9248 - val_accuracy: 0.8170\n",
      "Epoch 9/9\n",
      "16/16 [==============================] - 1s 33ms/step - loss: 0.2722 - accuracy: 0.9406 - val_loss: 0.8912 - val_accuracy: 0.8210\n"
     ]
    }
   ],
   "source": [
    "model = keras.Sequential([\n",
    "    keras.layers.Dense(64, activation='relu'),\n",
    "    keras.layers.Dense(64, activation='relu'),\n",
    "    keras.layers.Dense(46, activation='softmax')\n",
    "])\n",
    "\n",
    "model.compile(optimizer='rmsprop', loss='categorical_crossentropy', metrics=['accuracy'])\n",
    "\n",
    "history = model.fit(\n",
    "    partial_x_train,\n",
    "    partial_y_train,\n",
    "    batch_size=512,\n",
    "    epochs=9,\n",
    "    validation_data=[x_val, y_val]\n",
    ")"
   ]
  },
  {
   "cell_type": "code",
   "execution_count": 27,
   "id": "ebf3b1b8",
   "metadata": {},
   "outputs": [],
   "source": [
    "a = np.unique(train_labels, return_counts=True)"
   ]
  },
  {
   "cell_type": "code",
   "execution_count": 31,
   "id": "9b48de1c",
   "metadata": {},
   "outputs": [
    {
     "name": "stdout",
     "output_type": "stream",
     "text": [
      "(array([ 0,  1,  2,  3,  4,  5,  6,  7,  8,  9, 10, 11, 12, 13, 14, 15, 16,\n",
      "       17, 18, 19, 20, 21, 22, 23, 24, 25, 26, 27, 28, 29, 30, 31, 32, 33,\n",
      "       34, 35, 36, 37, 38, 39, 40, 41, 42, 43, 44, 45], dtype=int64),)\n",
      "(array([  55,  432,   74, 3159, 1949,   17,   48,   16,  139,  101,  124,\n",
      "        390,   49,  172,   26,   20,  444,   39,   66,  549,  269,  100,\n",
      "         15,   41,   62,   92,   24,   15,   48,   19,   45,   39,   32,\n",
      "         11,   50,   10,   49,   19,   19,   24,   36,   30,   13,   21,\n",
      "         12,   18], dtype=int64),)\n"
     ]
    }
   ],
   "source": [
    "for b in zip(a):\n",
    "    print(b)"
   ]
  },
  {
   "cell_type": "code",
   "execution_count": 32,
   "id": "24dd9016",
   "metadata": {},
   "outputs": [
    {
     "name": "stdout",
     "output_type": "stream",
     "text": [
      "0 55\n",
      "1 432\n",
      "2 74\n",
      "3 3159\n",
      "4 1949\n",
      "5 17\n",
      "6 48\n",
      "7 16\n",
      "8 139\n",
      "9 101\n",
      "10 124\n",
      "11 390\n",
      "12 49\n",
      "13 172\n",
      "14 26\n",
      "15 20\n",
      "16 444\n",
      "17 39\n",
      "18 66\n",
      "19 549\n",
      "20 269\n",
      "21 100\n",
      "22 15\n",
      "23 41\n",
      "24 62\n",
      "25 92\n",
      "26 24\n",
      "27 15\n",
      "28 48\n",
      "29 19\n",
      "30 45\n",
      "31 39\n",
      "32 32\n",
      "33 11\n",
      "34 50\n",
      "35 10\n",
      "36 49\n",
      "37 19\n",
      "38 19\n",
      "39 24\n",
      "40 36\n",
      "41 30\n",
      "42 13\n",
      "43 21\n",
      "44 12\n",
      "45 18\n"
     ]
    }
   ],
   "source": [
    "values, counts = np.unique(train_labels, return_counts=True)\n",
    "for value, count in zip(values, counts):\n",
    "    print(value, count)"
   ]
  },
  {
   "cell_type": "markdown",
   "id": "7fe9d5a2",
   "metadata": {},
   "source": [
    "Predicting 3 every time would give us an accuracy of ~35% (3159/8982)"
   ]
  },
  {
   "cell_type": "code",
   "execution_count": 40,
   "id": "1f11870d",
   "metadata": {},
   "outputs": [],
   "source": [
    "predictions = model.predict(x_test[:5])"
   ]
  },
  {
   "cell_type": "code",
   "execution_count": 43,
   "id": "bda07f5b",
   "metadata": {},
   "outputs": [
    {
     "data": {
      "text/plain": [
       "<tf.Tensor: shape=(5,), dtype=int64, numpy=array([ 3, 10,  1,  4, 13], dtype=int64)>"
      ]
     },
     "execution_count": 43,
     "metadata": {},
     "output_type": "execute_result"
    }
   ],
   "source": [
    "tf.argmax(predictions, axis=1)"
   ]
  },
  {
   "cell_type": "markdown",
   "id": "4cb35576",
   "metadata": {},
   "source": [
    "if we don't want to 1-hot the labels ... `sparse_categorical_crossentropy`"
   ]
  },
  {
   "cell_type": "code",
   "execution_count": 44,
   "id": "b2dab863",
   "metadata": {},
   "outputs": [
    {
     "name": "stdout",
     "output_type": "stream",
     "text": [
      "Epoch 1/2\n",
      "16/16 [==============================] - 1s 46ms/step - loss: 2.6241 - accuracy: 0.5177 - val_loss: 1.7081 - val_accuracy: 0.6470\n",
      "Epoch 2/2\n",
      "16/16 [==============================] - 0s 29ms/step - loss: 1.3973 - accuracy: 0.7152 - val_loss: 1.2654 - val_accuracy: 0.7290\n"
     ]
    }
   ],
   "source": [
    "y_train, y_test = [np.array(l) for l in [train_labels, test_labels]]\n",
    "y_val = y_train[:1000]\n",
    "partial_y_train = y_train[1000:]\n",
    "model = keras.Sequential([\n",
    "    keras.layers.Dense(64, activation='relu'),\n",
    "    keras.layers.Dense(64, activation='relu'),\n",
    "    keras.layers.Dense(46, activation='softmax')\n",
    "])\n",
    "\n",
    "model.compile(optimizer='rmsprop', loss='sparse_categorical_crossentropy', metrics=['accuracy'])\n",
    "\n",
    "history = model.fit(\n",
    "    partial_x_train,\n",
    "    partial_y_train,\n",
    "    batch_size=512,\n",
    "    epochs=2,\n",
    "    validation_data=[x_val, y_val]\n",
    ")"
   ]
  }
 ],
 "metadata": {
  "kernelspec": {
   "display_name": "Python 3",
   "language": "python",
   "name": "python3"
  },
  "language_info": {
   "codemirror_mode": {
    "name": "ipython",
    "version": 3
   },
   "file_extension": ".py",
   "mimetype": "text/x-python",
   "name": "python",
   "nbconvert_exporter": "python",
   "pygments_lexer": "ipython3",
   "version": "3.9.0"
  }
 },
 "nbformat": 4,
 "nbformat_minor": 5
}
