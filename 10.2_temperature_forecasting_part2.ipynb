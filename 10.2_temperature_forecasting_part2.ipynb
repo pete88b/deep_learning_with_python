{
 "cells": [
  {
   "cell_type": "markdown",
   "metadata": {},
   "source": [
    "# Can we improve an LSTM with `fit_residual`?\n",
    "\n",
    "**TLDR;** Yes, with `fit_residual`, the LSTM matches the test MAE of the stacked GRU.\n",
    "\n",
    "It's interesting that `fit_residual` doesn't help the stacked GRU - suggesting that the stacked GRU is able to learn this feature without any help?\n",
    "\n",
    "# Can using the date feature help any of these models?\n",
    "\n",
    "**TLDR;** Yes, this helps the fully connected model get pretty close to the test MAE of the stacked GRU.\n",
    "\n",
    "This also helps the LSTM get a test MAE of 2.32 (11.5% improvement over the baseline and 2.9% improvement over the stacked GRU).\n",
    "\n",
    "# Functions that make it easy to try different combinations of ideas;\n",
    "\n",
    "## `data_to_np`\n",
    "\n",
    "Convert `lines` to numpy arrays.\n",
    "\n",
    "### `use_date_features`\n",
    "\n",
    "Pass `use_date_features=True`, to include date features in the input data.\n",
    "\n",
    "## `new_model`\n",
    "\n",
    "Create a new fully connected model.\n",
    "\n",
    "### `fit_residual`\n",
    "\n",
    "Can a model learn to correct the errors of the common-sense, non-machine learning baseline?\n",
    "\n",
    "Pass `fit_residual=True`, to add the temperature as it is \"now\" to the output of the last dense layer to get our final predictions.\n",
    "\n",
    "### `temporal_weight_range`\n",
    "\n",
    "Can we tell our model to pay more attention to data from the recent past?\n",
    "\n",
    "e.g. `[0.0, 2.0]` reduces the magnitude of earlier observations and increases the magnitude of recent observations.\n",
    "\n",
    "### `l2_factor`\n",
    "\n",
    "See [regularizers.l2](https://keras.io/api/layers/regularizers/)\n",
    "\n",
    "### `dropout_rate`\n",
    "\n",
    "See [layers.Dropout](https://keras.io/api/layers/regularization_layers/dropout/)\n",
    "\n",
    "## `compile_and_fit`\n",
    "\n",
    "Compile and fit `model` saving checkpoints to `f'jena_dense_{model_tag}.keras'`.\n",
    "\n",
    "## `evaluate_model`\n",
    "\n",
    "Calculates metrics for a model checkpoint saved as `f'jena_dense_{model_tag}.keras'` using the test dataset."
   ]
  },
  {
   "cell_type": "code",
   "execution_count": 1,
   "metadata": {
    "colab": {
     "base_uri": "https://localhost:8080/"
    },
    "id": "QYQP35bVyo8D",
    "outputId": "75119a50-796a-46eb-8395-dc7fdcaf45e9"
   },
   "outputs": [
    {
     "name": "stderr",
     "output_type": "stream",
     "text": [
      "Matplotlib created a temporary config/cache directory at /tmp/matplotlib-y95s463e because the default path (/.config/matplotlib) is not a writable directory; it is highly recommended to set the MPLCONFIGDIR environment variable to a writable directory, in particular to speed up the import of Matplotlib and to better support multiprocessing.\n"
     ]
    }
   ],
   "source": [
    "import numpy as np\n",
    "import tensorflow as tf\n",
    "from datetime import datetime\n",
    "from tensorflow import keras\n",
    "from tensorflow.keras import layers\n",
    "from tensorflow.keras import regularizers\n",
    "from tensorflow.keras import callbacks\n",
    "from matplotlib import pyplot as plt\n",
    "from pathlib import Path\n",
    "from functools import partial\n",
    "try:\n",
    "    from utils.plot_history import *\n",
    "except ModuleNotFoundError:\n",
    "    if not Path('plot_history.py').is_file():\n",
    "        !wget https://raw.githubusercontent.com/pete88b/deep_learning_with_python/main/utils/plot_history.py\n",
    "    from plot_history import *"
   ]
  },
  {
   "cell_type": "code",
   "execution_count": 2,
   "metadata": {
    "colab": {
     "base_uri": "https://localhost:8080/"
    },
    "id": "F4VBRHx_nDmM",
    "outputId": "2e53037a-c99e-4d90-adfa-29782c8f9d93"
   },
   "outputs": [
    {
     "name": "stdout",
     "output_type": "stream",
     "text": [
      "15 features 420451 rows of data\n",
      "['\"Date Time\"', '\"p (mbar)\"', '\"T (degC)\"', '\"Tpot (K)\"', '\"Tdew (degC)\"', '\"rh (%)\"', '\"VPmax (mbar)\"', '\"VPact (mbar)\"', '\"VPdef (mbar)\"', '\"sh (g/kg)\"', '\"H2OC (mmol/mol)\"', '\"rho (g/m**3)\"', '\"wv (m/s)\"', '\"max. wv (m/s)\"', '\"wd (deg)\"']\n"
     ]
    }
   ],
   "source": [
    "Path('data/models').mkdir(exist_ok=True, parents=True)\n",
    "if not Path('data/jena_climate_2009_2016.csv').is_file():\n",
    "    !wget https://s3.amazonaws.com/keras-datasets/jena_climate_2009_2016.csv.zip\n",
    "    !unzip jena_climate_2009_2016.csv.zip -d data\n",
    "with open(\"data/jena_climate_2009_2016.csv\") as f:\n",
    "    data = f.read()\n",
    "lines = data.split('\\n')\n",
    "header = lines[0].split(',')\n",
    "lines = lines[1:]\n",
    "print(len(header), 'features', len(lines), 'rows of data')\n",
    "print(header)"
   ]
  },
  {
   "cell_type": "markdown",
   "metadata": {},
   "source": [
    "# Add date features\n",
    "\n",
    "## TODO: Make day of week categorical\n",
    "\n",
    "Categorical day of week might make sense as things like polution from traffic can be different on the weekend.\n",
    "\n",
    "Also use embedding like fastai tabular?"
   ]
  },
  {
   "cell_type": "code",
   "execution_count": 3,
   "metadata": {},
   "outputs": [],
   "source": [
    "def create_date_features(date_str):\n",
    "    d = datetime.strptime(date_str, '%d.%m.%Y %H:%M:%S')\n",
    "    hour_of_day = d.hour # 0-23\n",
    "    day_of_week = d.weekday() # Monday is 0 \n",
    "    day_of_year = int(d.strftime('%j')) # 1-365\n",
    "    sin_hour_of_day, cos_hour_of_day = [f(2 * np.pi * hour_of_day / 24) for f in [np.sin, np.cos]]\n",
    "    sin_day_of_year, cos_day_of_year = [f(2 * np.pi * day_of_year / 365) for f in [np.sin, np.cos]]\n",
    "    return [sin_hour_of_day, cos_hour_of_day, day_of_week, sin_day_of_year, cos_day_of_year]"
   ]
  },
  {
   "cell_type": "code",
   "execution_count": 4,
   "metadata": {},
   "outputs": [
    {
     "name": "stdout",
     "output_type": "stream",
     "text": [
      "01.01.2009 00:10:00 [0.0, 1.0, 3, 0.017213356155834685, 0.9998518392091162]\n",
      "01.01.2009 01:10:00 [0.25881904510252074, 0.9659258262890683, 3, 0.017213356155834685, 0.9998518392091162]\n",
      "01.01.2009 02:10:00 [0.49999999999999994, 0.8660254037844387, 3, 0.017213356155834685, 0.9998518392091162]\n",
      "01.01.2009 03:10:00 [0.7071067811865475, 0.7071067811865476, 3, 0.017213356155834685, 0.9998518392091162]\n",
      "01.01.2009 04:10:00 [0.8660254037844386, 0.5000000000000001, 3, 0.017213356155834685, 0.9998518392091162]\n"
     ]
    }
   ],
   "source": [
    "for line in lines[0:30:6]:\n",
    "    split_line = line.split(\",\")\n",
    "    print(split_line[0], create_date_features(split_line[0]))"
   ]
  },
  {
   "cell_type": "markdown",
   "metadata": {
    "id": "5mHZGA3aZiu4"
   },
   "source": [
    "# Convert data to np and normalize"
   ]
  },
  {
   "cell_type": "code",
   "execution_count": 5,
   "metadata": {},
   "outputs": [],
   "source": [
    "n_train_samples = 210225\n",
    "n_val_samples = 105112\n",
    "n_test_samples = 105114"
   ]
  },
  {
   "cell_type": "code",
   "execution_count": 6,
   "metadata": {
    "id": "EZyWlfYOycor"
   },
   "outputs": [],
   "source": [
    "def data_to_np(use_date_features=False):\n",
    "    n_date_features = 5 if use_date_features else 0\n",
    "    temperature = np.zeros((len(lines),))\n",
    "    raw_data = np.zeros((len(lines), len(header) - 1 + n_date_features))\n",
    "    for i, line in enumerate(lines):\n",
    "        split_line = line.split(\",\")\n",
    "        values = [float(x) for x in split_line[1:]] \n",
    "        if use_date_features:\n",
    "            values = values + create_date_features(split_line[0])\n",
    "        temperature[i] = values[1]\n",
    "        raw_data[i, :] = values[:] # features inc. temp\n",
    "    mean = raw_data[:n_train_samples].mean(axis=0)\n",
    "    std = raw_data[:n_train_samples].std(axis=0)\n",
    "    raw_data -= mean\n",
    "    raw_data /= std\n",
    "    return temperature, raw_data, mean, std"
   ]
  },
  {
   "cell_type": "markdown",
   "metadata": {
    "id": "qb-evCHYEAKh"
   },
   "source": [
    "# Create datasets"
   ]
  },
  {
   "cell_type": "code",
   "execution_count": 7,
   "metadata": {
    "id": "fcut5lF709n2"
   },
   "outputs": [],
   "source": [
    "sampling_rate = 6\n",
    "sequence_length = 120\n",
    "delay = sampling_rate * (sequence_length + 24 - 1)\n",
    "batch_size = 1024 # larger batch size makes training faster but might be changing effective learning rate\n",
    "def new_dataset(start_index, end_index):\n",
    "    dataset = keras.utils.timeseries_dataset_from_array(\n",
    "            raw_data[:-delay],\n",
    "            targets=temperature[delay:],\n",
    "            sampling_rate=sampling_rate,\n",
    "            sequence_length=sequence_length,\n",
    "            shuffle=start_index == 0, # only shuffle train\n",
    "            batch_size=batch_size,\n",
    "            start_index=start_index,\n",
    "            end_index=end_index)\n",
    "    return dataset.prefetch(tf.data.AUTOTUNE)"
   ]
  },
  {
   "cell_type": "code",
   "execution_count": 8,
   "metadata": {},
   "outputs": [],
   "source": [
    "def new_datasets():\n",
    "    train_dataset = new_dataset(0, n_train_samples)\n",
    "    val_dataset = new_dataset(n_train_samples, n_train_samples + n_val_samples)\n",
    "    test_dataset = new_dataset(n_train_samples + n_val_samples, None)\n",
    "    return train_dataset, val_dataset, test_dataset"
   ]
  },
  {
   "cell_type": "markdown",
   "metadata": {},
   "source": [
    "# Functions to build and train models"
   ]
  },
  {
   "cell_type": "code",
   "execution_count": 9,
   "metadata": {
    "id": "1mnml58HEbaQ"
   },
   "outputs": [],
   "source": [
    "def new_model(temporal_weight_range=None, l2_factor=None, dropout_rate=None, fit_residual=False):\n",
    "    \"Create a fully connected model\"\n",
    "    inputs = layers.Input(shape=(sequence_length, raw_data.shape[-1]))\n",
    "    if temporal_weight_range is not None:\n",
    "        temporal_weight_mask = tf.linspace(temporal_weight_range[0], temporal_weight_range[1], 120)\n",
    "        x = layers.Flatten()(inputs * tf.expand_dims(temporal_weight_mask, -1))\n",
    "    else:\n",
    "        x = layers.Flatten()(inputs)\n",
    "    kernel_regularizer = None if l2_factor is None else regularizers.l2(l2_factor) \n",
    "    x = layers.Dense(16, activation='relu', kernel_regularizer=kernel_regularizer)(x)\n",
    "    if dropout_rate is not None:\n",
    "        x = layers.Dropout(dropout_rate)(x)\n",
    "    x = layers.Dense(1)(x)\n",
    "    if fit_residual:\n",
    "        x = tf.expand_dims(inputs[:, -1, 1] * std[1] + mean[1], -1) + x\n",
    "    return keras.Model(inputs, x)"
   ]
  },
  {
   "cell_type": "code",
   "execution_count": 10,
   "metadata": {},
   "outputs": [],
   "source": [
    "def new_lstm_model(fit_residual=False):\n",
    "    \"Create an LSTM\"\n",
    "    inputs = keras.Input(shape=(sequence_length, raw_data.shape[-1]))\n",
    "    x = layers.LSTM(32, recurrent_dropout=0.25, unroll=True)(inputs) # use unroll to speed up training\n",
    "    x = layers.Dropout(0.5)(x)\n",
    "    x = layers.Dense(1)(x)\n",
    "    if fit_residual:\n",
    "        x = tf.expand_dims(inputs[:, -1, 1] * std[1] + mean[1], -1) + x\n",
    "    return keras.Model(inputs, x)"
   ]
  },
  {
   "cell_type": "code",
   "execution_count": 11,
   "metadata": {
    "id": "ZmRvoKrNHGzX"
   },
   "outputs": [],
   "source": [
    "def compile_and_fit(model, model_tag):\n",
    "    model.compile(optimizer='rmsprop', loss='mse', metrics=['mae'])\n",
    "    kwargs = dict(monitor='val_mae', verbose=1)\n",
    "    cbs = [callbacks.ModelCheckpoint(f'data/models/jena_{model_tag}.keras', \n",
    "                                     save_best_only=True, **kwargs),\n",
    "           callbacks.EarlyStopping(patience=2, **kwargs)]\n",
    "    history = model.fit(train_dataset,\n",
    "                        epochs=50,\n",
    "                        validation_data=val_dataset,\n",
    "                        callbacks=cbs)\n",
    "    del history.history['loss'] # we'll just plot mae\n",
    "    plot_history(history, ignore_first_n=0)"
   ]
  },
  {
   "cell_type": "code",
   "execution_count": 12,
   "metadata": {
    "id": "E9ofaP0wfld0"
   },
   "outputs": [],
   "source": [
    "def evaluate_model(model_tag):\n",
    "    model = keras.models.load_model(f'data/models/jena_{model_tag}.keras')\n",
    "    print(f\"Test MAE: {model.evaluate(test_dataset)[1]:.2f} for model tag: {model_tag}\")"
   ]
  },
  {
   "cell_type": "markdown",
   "metadata": {},
   "source": [
    "# The common-sense, non-machine learning baseline\n",
    "\n",
    "```\n",
    "Naive validation MAE 2.4417357485655167\n",
    "Naive test MAE 2.621898451761206\n",
    "\n",
    "```"
   ]
  },
  {
   "cell_type": "markdown",
   "metadata": {},
   "source": [
    "# Can we improve an LSTM with `fit_residual`?"
   ]
  },
  {
   "cell_type": "code",
   "execution_count": 13,
   "metadata": {},
   "outputs": [
    {
     "name": "stdout",
     "output_type": "stream",
     "text": [
      "(1024, 120, 14) (1024,) tf.Tensor(-0.16956935206301896, shape=(), dtype=float64)\n"
     ]
    }
   ],
   "source": [
    "temperature, raw_data, mean, std = data_to_np()\n",
    "train_dataset, val_dataset, test_dataset = new_datasets()\n",
    "for xb,yb in test_dataset:\n",
    "    print(xb.shape, yb.shape, tf.reduce_mean(xb))\n",
    "    break"
   ]
  },
  {
   "cell_type": "code",
   "execution_count": 14,
   "metadata": {},
   "outputs": [
    {
     "name": "stdout",
     "output_type": "stream",
     "text": [
      "WARNING:tensorflow:Layer lstm will not use cuDNN kernels since it doesn't meet the criteria. It will use a generic GPU kernel as fallback when running on GPU.\n",
      "Epoch 1/50\n",
      "205/205 [==============================] - ETA: 0s - loss: 10.8828 - mae: 2.5574\n",
      "Epoch 1: val_mae improved from inf to 2.33481, saving model to data/models/jena_lstm_0.keras\n",
      "205/205 [==============================] - 57s 124ms/step - loss: 10.8828 - mae: 2.5574 - val_loss: 9.0623 - val_mae: 2.3348\n",
      "Epoch 2/50\n",
      "205/205 [==============================] - ETA: 0s - loss: 10.2646 - mae: 2.4911\n",
      "Epoch 2: val_mae improved from 2.33481 to 2.30770, saving model to data/models/jena_lstm_0.keras\n",
      "205/205 [==============================] - 21s 103ms/step - loss: 10.2646 - mae: 2.4911 - val_loss: 8.8800 - val_mae: 2.3077\n",
      "Epoch 3/50\n",
      "205/205 [==============================] - ETA: 0s - loss: 9.9454 - mae: 2.4559\n",
      "Epoch 3: val_mae improved from 2.30770 to 2.28659, saving model to data/models/jena_lstm_0.keras\n",
      "205/205 [==============================] - 22s 105ms/step - loss: 9.9454 - mae: 2.4559 - val_loss: 8.7174 - val_mae: 2.2866\n",
      "Epoch 4/50\n",
      "205/205 [==============================] - ETA: 0s - loss: 9.7001 - mae: 2.4260\n",
      "Epoch 4: val_mae improved from 2.28659 to 2.27694, saving model to data/models/jena_lstm_0.keras\n",
      "205/205 [==============================] - 22s 105ms/step - loss: 9.7001 - mae: 2.4260 - val_loss: 8.6897 - val_mae: 2.2769\n",
      "Epoch 5/50\n",
      "205/205 [==============================] - ETA: 0s - loss: 9.4958 - mae: 2.4026\n",
      "Epoch 5: val_mae did not improve from 2.27694\n",
      "205/205 [==============================] - 22s 106ms/step - loss: 9.4958 - mae: 2.4026 - val_loss: 8.6928 - val_mae: 2.2786\n",
      "Epoch 6/50\n",
      "205/205 [==============================] - ETA: 0s - loss: 9.3560 - mae: 2.3855\n",
      "Epoch 6: val_mae did not improve from 2.27694\n",
      "205/205 [==============================] - 22s 106ms/step - loss: 9.3560 - mae: 2.3855 - val_loss: 8.6648 - val_mae: 2.2791\n",
      "Epoch 6: early stopping\n"
     ]
    },
    {
     "data": {
      "image/png": "[encoded data removed]",
      "text/plain": [
       "<Figure size 640x480 with 1 Axes>"
      ]
     },
     "metadata": {},
     "output_type": "display_data"
    }
   ],
   "source": [
    "model = new_lstm_model(fit_residual=True)\n",
    "compile_and_fit(model, 'lstm_0')"
   ]
  },
  {
   "cell_type": "code",
   "execution_count": 15,
   "metadata": {},
   "outputs": [
    {
     "name": "stdout",
     "output_type": "stream",
     "text": [
      "WARNING:tensorflow:Layer lstm will not use cuDNN kernels since it doesn't meet the criteria. It will use a generic GPU kernel as fallback when running on GPU.\n",
      "102/102 [==============================] - 9s 39ms/step - loss: 9.5319 - mae: 2.3852\n",
      "Test MAE: 2.39 for model tag: lstm_0\n"
     ]
    }
   ],
   "source": [
    "evaluate_model('lstm_0')"
   ]
  },
  {
   "cell_type": "markdown",
   "metadata": {},
   "source": [
    "&uarr; 2.39 was the test MAE for the stacked GRU.\n",
    "\n",
    "**With** `fit_residual`, stacked GRU reaches the same accuracy but takes ~3x longer to train.\n",
    "\n",
    "# Can using the date feature help any of these models?"
   ]
  },
  {
   "cell_type": "code",
   "execution_count": 16,
   "metadata": {},
   "outputs": [
    {
     "name": "stdout",
     "output_type": "stream",
     "text": [
      "(1024, 120, 19) (1024,) tf.Tensor(-0.046114465524022465, shape=(), dtype=float64)\n"
     ]
    }
   ],
   "source": [
    "temperature, raw_data, mean, std = data_to_np(use_date_features=True)\n",
    "train_dataset, val_dataset, test_dataset = new_datasets()\n",
    "for xb,yb in test_dataset:\n",
    "    print(xb.shape, yb.shape, tf.reduce_mean(xb))\n",
    "    break"
   ]
  },
  {
   "cell_type": "code",
   "execution_count": 17,
   "metadata": {},
   "outputs": [
    {
     "name": "stdout",
     "output_type": "stream",
     "text": [
      "WARNING:tensorflow:Layer lstm_1 will not use cuDNN kernels since it doesn't meet the criteria. It will use a generic GPU kernel as fallback when running on GPU.\n",
      "Epoch 1/50\n",
      "205/205 [==============================] - ETA: 0s - loss: 10.1961 - mae: 2.4759\n",
      "Epoch 1: val_mae improved from inf to 2.23592, saving model to data/models/jena_lstm_1.keras\n",
      "205/205 [==============================] - 59s 126ms/step - loss: 10.1961 - mae: 2.4759 - val_loss: 8.2786 - val_mae: 2.2359\n",
      "Epoch 2/50\n",
      "205/205 [==============================] - ETA: 0s - loss: 9.1924 - mae: 2.3590\n",
      "Epoch 2: val_mae improved from 2.23592 to 2.22139, saving model to data/models/jena_lstm_1.keras\n",
      "205/205 [==============================] - 22s 105ms/step - loss: 9.1924 - mae: 2.3590 - val_loss: 8.1386 - val_mae: 2.2214\n",
      "Epoch 3/50\n",
      "205/205 [==============================] - ETA: 0s - loss: 8.7732 - mae: 2.3069\n",
      "Epoch 3: val_mae did not improve from 2.22139\n",
      "205/205 [==============================] - 22s 107ms/step - loss: 8.7732 - mae: 2.3069 - val_loss: 8.1542 - val_mae: 2.2270\n",
      "Epoch 4/50\n",
      "205/205 [==============================] - ETA: 0s - loss: 8.4795 - mae: 2.2712\n",
      "Epoch 4: val_mae did not improve from 2.22139\n",
      "205/205 [==============================] - 22s 108ms/step - loss: 8.4795 - mae: 2.2712 - val_loss: 8.1499 - val_mae: 2.2231\n",
      "Epoch 4: early stopping\n"
     ]
    },
    {
     "data": {
      "image/png": "[encoded data removed]",
      "text/plain": [
       "<Figure size 640x480 with 1 Axes>"
      ]
     },
     "metadata": {},
     "output_type": "display_data"
    }
   ],
   "source": [
    "model = new_lstm_model(fit_residual=True)\n",
    "compile_and_fit(model, 'lstm_1')"
   ]
  },
  {
   "cell_type": "code",
   "execution_count": 18,
   "metadata": {},
   "outputs": [
    {
     "name": "stdout",
     "output_type": "stream",
     "text": [
      "WARNING:tensorflow:Layer lstm_1 will not use cuDNN kernels since it doesn't meet the criteria. It will use a generic GPU kernel as fallback when running on GPU.\n",
      "102/102 [==============================] - 9s 40ms/step - loss: 8.8562 - mae: 2.3209\n",
      "Test MAE: 2.32 for model tag: lstm_1\n"
     ]
    }
   ],
   "source": [
    "evaluate_model('lstm_1')"
   ]
  },
  {
   "cell_type": "markdown",
   "metadata": {},
   "source": [
    "&uarr; so we've improved the model without increasing time it takes to train (o:\n",
    "\n",
    "&darr; let's see if this helps the dense model too"
   ]
  },
  {
   "cell_type": "code",
   "execution_count": 19,
   "metadata": {
    "colab": {
     "base_uri": "https://localhost:8080/",
     "height": 820
    },
    "id": "6kFLPGhzbkcg",
    "outputId": "98547703-61ea-4802-cb78-3150f4317e61"
   },
   "outputs": [
    {
     "name": "stdout",
     "output_type": "stream",
     "text": [
      "Epoch 1/50\n",
      "202/205 [============================>.] - ETA: 0s - loss: 11.9398 - mae: 2.6486\n",
      "Epoch 1: val_mae improved from inf to 2.54107, saving model to data/models/jena_dense_0.keras\n",
      "205/205 [==============================] - 9s 43ms/step - loss: 11.9335 - mae: 2.6483 - val_loss: 10.7844 - val_mae: 2.5411\n",
      "Epoch 2/50\n",
      "204/205 [============================>.] - ETA: 0s - loss: 10.3150 - mae: 2.4757\n",
      "Epoch 2: val_mae improved from 2.54107 to 2.40010, saving model to data/models/jena_dense_0.keras\n",
      "205/205 [==============================] - 9s 43ms/step - loss: 10.3151 - mae: 2.4758 - val_loss: 9.7596 - val_mae: 2.4001\n",
      "Epoch 3/50\n",
      "204/205 [============================>.] - ETA: 0s - loss: 9.9141 - mae: 2.4282\n",
      "Epoch 3: val_mae improved from 2.40010 to 2.23840, saving model to data/models/jena_dense_0.keras\n",
      "205/205 [==============================] - 9s 43ms/step - loss: 9.9137 - mae: 2.4280 - val_loss: 8.5210 - val_mae: 2.2384\n",
      "Epoch 4/50\n",
      "203/205 [============================>.] - ETA: 0s - loss: 9.6770 - mae: 2.4001\n",
      "Epoch 4: val_mae did not improve from 2.23840\n",
      "205/205 [==============================] - 9s 42ms/step - loss: 9.6774 - mae: 2.4002 - val_loss: 8.7321 - val_mae: 2.2663\n",
      "Epoch 5/50\n",
      "204/205 [============================>.] - ETA: 0s - loss: 9.5585 - mae: 2.3846\n",
      "Epoch 5: val_mae improved from 2.23840 to 2.23294, saving model to data/models/jena_dense_0.keras\n",
      "205/205 [==============================] - 9s 43ms/step - loss: 9.5566 - mae: 2.3842 - val_loss: 8.4744 - val_mae: 2.2329\n",
      "Epoch 6/50\n",
      "204/205 [============================>.] - ETA: 0s - loss: 9.4998 - mae: 2.3794\n",
      "Epoch 6: val_mae did not improve from 2.23294\n",
      "205/205 [==============================] - 9s 42ms/step - loss: 9.5005 - mae: 2.3795 - val_loss: 8.6970 - val_mae: 2.2646\n",
      "Epoch 7/50\n",
      "204/205 [============================>.] - ETA: 0s - loss: 9.4236 - mae: 2.3700\n",
      "Epoch 7: val_mae did not improve from 2.23294\n",
      "205/205 [==============================] - 9s 42ms/step - loss: 9.4271 - mae: 2.3705 - val_loss: 8.8544 - val_mae: 2.2857\n",
      "Epoch 7: early stopping\n"
     ]
    },
    {
     "data": {
      "image/png": "[encoded data removed]",
      "text/plain": [
       "<Figure size 640x480 with 1 Axes>"
      ]
     },
     "metadata": {},
     "output_type": "display_data"
    }
   ],
   "source": [
    "model = new_model(temporal_weight_range=[0.0, 2.0], l2_factor=1e-2, dropout_rate=0.5, fit_residual=True)\n",
    "compile_and_fit(model, 'dense_0')"
   ]
  },
  {
   "cell_type": "code",
   "execution_count": 20,
   "metadata": {
    "colab": {
     "base_uri": "https://localhost:8080/"
    },
    "id": "T-aopaYOg8UY",
    "outputId": "7ca0e07d-f449-4fa0-8bdc-63f2c4ba6141"
   },
   "outputs": [
    {
     "name": "stdout",
     "output_type": "stream",
     "text": [
      "102/102 [==============================] - 3s 28ms/step - loss: 9.7333 - mae: 2.4136\n",
      "Test MAE: 2.41 for model tag: dense_0\n"
     ]
    }
   ],
   "source": [
    "evaluate_model('dense_0')"
   ]
  }
 ],
 "metadata": {
  "accelerator": "GPU",
  "colab": {
   "collapsed_sections": [],
   "name": "10.2_temperature_forecasting.ipynb",
   "provenance": []
  },
  "kernelspec": {
   "display_name": "Python 3",
   "language": "python",
   "name": "python3"
  },
  "language_info": {
   "codemirror_mode": {
    "name": "ipython",
    "version": 3
   },
   "file_extension": ".py",
   "mimetype": "text/x-python",
   "name": "python",
   "nbconvert_exporter": "python",
   "pygments_lexer": "ipython3",
   "version": "3.8.10"
  },
  "toc": {
   "base_numbering": 1,
   "nav_menu": {},
   "number_sections": true,
   "sideBar": true,
   "skip_h1_title": false,
   "title_cell": "Table of Contents",
   "title_sidebar": "Contents",
   "toc_cell": false,
   "toc_position": {},
   "toc_section_display": true,
   "toc_window_display": false
  }
 },
 "nbformat": 4,
 "nbformat_minor": 1
}
