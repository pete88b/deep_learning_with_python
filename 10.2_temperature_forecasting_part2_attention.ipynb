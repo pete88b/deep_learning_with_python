{
 "cells": [
  {
   "cell_type": "markdown",
   "metadata": {},
   "source": [
    "# What happens if we add an attention layer to the dense model?\n",
    "\n",
    "and can positional embeddings to do better than the simple `temporal_weight_range`.\n",
    "\n",
    "**TLDR;** It doesn't make our results any better but ... it is pretty cool how easily we can do this"
   ]
  },
  {
   "cell_type": "code",
   "execution_count": 1,
   "metadata": {
    "colab": {
     "base_uri": "https://localhost:8080/"
    },
    "id": "QYQP35bVyo8D",
    "outputId": "75119a50-796a-46eb-8395-dc7fdcaf45e9"
   },
   "outputs": [
    {
     "name": "stderr",
     "output_type": "stream",
     "text": [
      "Matplotlib created a temporary config/cache directory at /tmp/matplotlib-kadjd35k because the default path (/.config/matplotlib) is not a writable directory; it is highly recommended to set the MPLCONFIGDIR environment variable to a writable directory, in particular to speed up the import of Matplotlib and to better support multiprocessing.\n"
     ]
    }
   ],
   "source": [
    "import numpy as np\n",
    "import tensorflow as tf\n",
    "from datetime import datetime\n",
    "from tensorflow import keras\n",
    "from tensorflow.keras import layers\n",
    "from tensorflow.keras import regularizers\n",
    "from tensorflow.keras import callbacks\n",
    "from matplotlib import pyplot as plt\n",
    "from pathlib import Path\n",
    "from functools import partial\n",
    "try:\n",
    "    from utils.plot_history import *\n",
    "except ModuleNotFoundError:\n",
    "    if not Path('plot_history.py').is_file():\n",
    "        !wget https://raw.githubusercontent.com/pete88b/deep_learning_with_python/main/utils/plot_history.py\n",
    "    from plot_history import *"
   ]
  },
  {
   "cell_type": "code",
   "execution_count": 2,
   "metadata": {
    "colab": {
     "base_uri": "https://localhost:8080/"
    },
    "id": "F4VBRHx_nDmM",
    "outputId": "2e53037a-c99e-4d90-adfa-29782c8f9d93"
   },
   "outputs": [
    {
     "name": "stdout",
     "output_type": "stream",
     "text": [
      "15 features 420451 rows of data\n",
      "['\"Date Time\"', '\"p (mbar)\"', '\"T (degC)\"', '\"Tpot (K)\"', '\"Tdew (degC)\"', '\"rh (%)\"', '\"VPmax (mbar)\"', '\"VPact (mbar)\"', '\"VPdef (mbar)\"', '\"sh (g/kg)\"', '\"H2OC (mmol/mol)\"', '\"rho (g/m**3)\"', '\"wv (m/s)\"', '\"max. wv (m/s)\"', '\"wd (deg)\"']\n"
     ]
    }
   ],
   "source": [
    "Path('data/models').mkdir(exist_ok=True, parents=True)\n",
    "if not Path('data/jena_climate_2009_2016.csv').is_file():\n",
    "    !wget https://s3.amazonaws.com/keras-datasets/jena_climate_2009_2016.csv.zip\n",
    "    !unzip jena_climate_2009_2016.csv.zip -d data\n",
    "with open(\"data/jena_climate_2009_2016.csv\") as f:\n",
    "    data = f.read()\n",
    "lines = data.split('\\n')\n",
    "header = lines[0].split(',')\n",
    "lines = lines[1:]\n",
    "print(len(header), 'features', len(lines), 'rows of data')\n",
    "print(header)"
   ]
  },
  {
   "cell_type": "markdown",
   "metadata": {},
   "source": [
    "# Add date features\n",
    "\n",
    "## TODO: Make day of week categorical\n",
    "\n",
    "Categorical day of week might make sense as things like polution from traffic can be different on the weekend.\n",
    "\n",
    "Also use embedding like fastai tabular?"
   ]
  },
  {
   "cell_type": "code",
   "execution_count": 3,
   "metadata": {},
   "outputs": [],
   "source": [
    "def create_date_features(date_str):\n",
    "    d = datetime.strptime(date_str, '%d.%m.%Y %H:%M:%S')\n",
    "    hour_of_day = d.hour # 0-23\n",
    "    day_of_week = d.weekday() # Monday is 0 \n",
    "    day_of_year = int(d.strftime('%j')) # 1-365\n",
    "    sin_hour_of_day, cos_hour_of_day = [f(2 * np.pi * hour_of_day / 24) for f in [np.sin, np.cos]]\n",
    "    sin_day_of_year, cos_day_of_year = [f(2 * np.pi * day_of_year / 365) for f in [np.sin, np.cos]]\n",
    "    return [sin_hour_of_day, cos_hour_of_day, day_of_week, sin_day_of_year, cos_day_of_year]"
   ]
  },
  {
   "cell_type": "code",
   "execution_count": 4,
   "metadata": {},
   "outputs": [
    {
     "name": "stdout",
     "output_type": "stream",
     "text": [
      "01.01.2009 00:10:00 [0.0, 1.0, 3, 0.017213356155834685, 0.9998518392091162]\n",
      "01.01.2009 01:10:00 [0.25881904510252074, 0.9659258262890683, 3, 0.017213356155834685, 0.9998518392091162]\n",
      "01.01.2009 02:10:00 [0.49999999999999994, 0.8660254037844387, 3, 0.017213356155834685, 0.9998518392091162]\n",
      "01.01.2009 03:10:00 [0.7071067811865475, 0.7071067811865476, 3, 0.017213356155834685, 0.9998518392091162]\n",
      "01.01.2009 04:10:00 [0.8660254037844386, 0.5000000000000001, 3, 0.017213356155834685, 0.9998518392091162]\n"
     ]
    }
   ],
   "source": [
    "for line in lines[0:30:6]:\n",
    "    split_line = line.split(\",\")\n",
    "    print(split_line[0], create_date_features(split_line[0]))"
   ]
  },
  {
   "cell_type": "markdown",
   "metadata": {
    "id": "5mHZGA3aZiu4"
   },
   "source": [
    "# Convert data to np and normalize"
   ]
  },
  {
   "cell_type": "code",
   "execution_count": 5,
   "metadata": {},
   "outputs": [],
   "source": [
    "n_train_samples = 210225\n",
    "n_val_samples = 105112\n",
    "n_test_samples = 105114"
   ]
  },
  {
   "cell_type": "code",
   "execution_count": 6,
   "metadata": {
    "id": "EZyWlfYOycor"
   },
   "outputs": [],
   "source": [
    "def data_to_np(use_date_features=False):\n",
    "    n_date_features = 5 if use_date_features else 0\n",
    "    temperature = np.zeros((len(lines),))\n",
    "    raw_data = np.zeros((len(lines), len(header) - 1 + n_date_features))\n",
    "    for i, line in enumerate(lines):\n",
    "        split_line = line.split(\",\")\n",
    "        values = [float(x) for x in split_line[1:]] \n",
    "        if use_date_features:\n",
    "            values = values + create_date_features(split_line[0])\n",
    "        temperature[i] = values[1]\n",
    "        raw_data[i, :] = values[:] # features inc. temp\n",
    "    mean = raw_data[:n_train_samples].mean(axis=0)\n",
    "    std = raw_data[:n_train_samples].std(axis=0)\n",
    "    raw_data -= mean\n",
    "    raw_data /= std\n",
    "    return temperature, raw_data, mean, std"
   ]
  },
  {
   "cell_type": "markdown",
   "metadata": {
    "id": "qb-evCHYEAKh"
   },
   "source": [
    "# Create datasets"
   ]
  },
  {
   "cell_type": "code",
   "execution_count": 7,
   "metadata": {
    "id": "fcut5lF709n2"
   },
   "outputs": [],
   "source": [
    "sampling_rate = 6\n",
    "sequence_length = 120\n",
    "delay = sampling_rate * (sequence_length + 24 - 1)\n",
    "batch_size = 256 # 512 is too big for dense model with attention\n",
    "def new_dataset(start_index, end_index):\n",
    "    dataset = keras.utils.timeseries_dataset_from_array(\n",
    "            raw_data[:-delay],\n",
    "            targets=temperature[delay:],\n",
    "            sampling_rate=sampling_rate,\n",
    "            sequence_length=sequence_length,\n",
    "            shuffle=start_index == 0, # only shuffle train\n",
    "            batch_size=batch_size,\n",
    "            start_index=start_index,\n",
    "            end_index=end_index)\n",
    "    return dataset.prefetch(tf.data.AUTOTUNE)"
   ]
  },
  {
   "cell_type": "code",
   "execution_count": 8,
   "metadata": {},
   "outputs": [],
   "source": [
    "def new_datasets():\n",
    "    train_dataset = new_dataset(0, n_train_samples)\n",
    "    val_dataset = new_dataset(n_train_samples, n_train_samples + n_val_samples)\n",
    "    test_dataset = new_dataset(n_train_samples + n_val_samples, None)\n",
    "    return train_dataset, val_dataset, test_dataset"
   ]
  },
  {
   "cell_type": "markdown",
   "metadata": {},
   "source": [
    "# Functions to build and train models"
   ]
  },
  {
   "cell_type": "markdown",
   "metadata": {},
   "source": [
    "`positional_embeddings ... output_dim=raw_data.shape[-1]` might make sense but for this problem, less is better\n",
    "\n",
    "It seems to be more common to sum when we \"apply embedded positions\" and \"attention res\" but I get better results by multiplying \n",
    "- I'm thinking that this allows both embedded positions and the attention layer to have a greater effect\n",
    "    - i.e. they could potentially zero out features going into the dense layers"
   ]
  },
  {
   "cell_type": "code",
   "execution_count": 9,
   "metadata": {},
   "outputs": [],
   "source": [
    "def new_model(l2_factor=None, dropout_rate=None, fit_residual=False, use_attention=True):\n",
    "    inputs = layers.Input(shape=(sequence_length, raw_data.shape[-1]))\n",
    "    position_embeddings = layers.Embedding(input_dim=120, output_dim=1)\n",
    "    embedded_positions = position_embeddings(tf.range(start=0, limit=120, delta=1))\n",
    "    inputs2 = inputs * embedded_positions # apply embedded positions\n",
    "    if use_attention:\n",
    "        x = layers.MultiHeadAttention(num_heads=2, key_dim=128)(inputs2, inputs2, inputs2)\n",
    "        x = layers.LayerNormalization()(inputs2 * x) # attention res\n",
    "        x = layers.Flatten()(x)\n",
    "    else:\n",
    "        x = layers.Flatten()(inputs2)\n",
    "    kernel_regularizer = None if l2_factor is None else regularizers.l2(l2_factor) \n",
    "    x = layers.Dense(16, activation='relu', kernel_regularizer=kernel_regularizer)(x)\n",
    "    if dropout_rate is not None:\n",
    "        x = layers.Dropout(dropout_rate)(x)\n",
    "    x = layers.Dense(1)(x)\n",
    "    if fit_residual:\n",
    "        x = tf.expand_dims(inputs[:, -1, 1] * std[1] + mean[1], -1) + x\n",
    "    return keras.Model(inputs, x)"
   ]
  },
  {
   "cell_type": "code",
   "execution_count": 10,
   "metadata": {
    "id": "ZmRvoKrNHGzX"
   },
   "outputs": [],
   "source": [
    "def compile_and_fit(model, model_tag):\n",
    "    model.compile(optimizer='rmsprop', loss='mse', metrics=['mae'])\n",
    "    kwargs = dict(monitor='val_mae', verbose=1)\n",
    "    cbs = [callbacks.ModelCheckpoint(f'data/models/jena_{model_tag}.keras', \n",
    "                                     save_best_only=True, **kwargs),\n",
    "           callbacks.EarlyStopping(patience=2, **kwargs)]\n",
    "    history = model.fit(train_dataset,\n",
    "                        epochs=50,\n",
    "                        validation_data=val_dataset,\n",
    "                        callbacks=cbs)\n",
    "    del history.history['loss'] # we'll just plot mae\n",
    "    plot_history(history, ignore_first_n=0)"
   ]
  },
  {
   "cell_type": "code",
   "execution_count": 11,
   "metadata": {
    "id": "E9ofaP0wfld0"
   },
   "outputs": [],
   "source": [
    "def evaluate_model(model_tag):\n",
    "    model = keras.models.load_model(f'data/models/jena_{model_tag}.keras')\n",
    "    print(f\"Test MAE: {model.evaluate(test_dataset)[1]:.2f} for model tag: {model_tag}\")"
   ]
  },
  {
   "cell_type": "markdown",
   "metadata": {},
   "source": [
    "# The common-sense, non-machine learning baseline\n",
    "\n",
    "```\n",
    "Naive validation MAE 2.4417357485655167\n",
    "Naive test MAE 2.621898451761206\n",
    "\n",
    "```"
   ]
  },
  {
   "cell_type": "code",
   "execution_count": 12,
   "metadata": {},
   "outputs": [
    {
     "name": "stdout",
     "output_type": "stream",
     "text": [
      "(256, 120, 19) (256,) tf.Tensor(-0.0422547269572423, shape=(), dtype=float64)\n"
     ]
    }
   ],
   "source": [
    "temperature, raw_data, mean, std = data_to_np(use_date_features=True)\n",
    "train_dataset, val_dataset, test_dataset = new_datasets()\n",
    "for xb,yb in test_dataset:\n",
    "    print(xb.shape, yb.shape, tf.reduce_mean(xb))\n",
    "    break"
   ]
  },
  {
   "cell_type": "code",
   "execution_count": 13,
   "metadata": {
    "colab": {
     "base_uri": "https://localhost:8080/",
     "height": 820
    },
    "id": "6kFLPGhzbkcg",
    "outputId": "98547703-61ea-4802-cb78-3150f4317e61",
    "scrolled": false
   },
   "outputs": [
    {
     "name": "stdout",
     "output_type": "stream",
     "text": [
      "Model: \"model\"\n",
      "__________________________________________________________________________________________________\n",
      " Layer (type)                   Output Shape         Param #     Connected to                     \n",
      "==================================================================================================\n",
      " input_1 (InputLayer)           [(None, 120, 19)]    0           []                               \n",
      "                                                                                                  \n",
      " tf.math.multiply (TFOpLambda)  (None, 120, 19)      0           ['input_1[0][0]']                \n",
      "                                                                                                  \n",
      " multi_head_attention (MultiHea  (None, 120, 19)     20243       ['tf.math.multiply[0][0]',       \n",
      " dAttention)                                                      'tf.math.multiply[0][0]',       \n",
      "                                                                  'tf.math.multiply[0][0]']       \n",
      "                                                                                                  \n",
      " tf.math.multiply_1 (TFOpLambda  (None, 120, 19)     0           ['tf.math.multiply[0][0]',       \n",
      " )                                                                'multi_head_attention[0][0]']   \n",
      "                                                                                                  \n",
      " layer_normalization (LayerNorm  (None, 120, 19)     38          ['tf.math.multiply_1[0][0]']     \n",
      " alization)                                                                                       \n",
      "                                                                                                  \n",
      " tf.__operators__.getitem (Slic  (None,)             0           ['input_1[0][0]']                \n",
      " ingOpLambda)                                                                                     \n",
      "                                                                                                  \n",
      " flatten (Flatten)              (None, 2280)         0           ['layer_normalization[0][0]']    \n",
      "                                                                                                  \n",
      " tf.math.multiply_2 (TFOpLambda  (None,)             0           ['tf.__operators__.getitem[0][0]'\n",
      " )                                                               ]                                \n",
      "                                                                                                  \n",
      " dense (Dense)                  (None, 16)           36496       ['flatten[0][0]']                \n",
      "                                                                                                  \n",
      " tf.__operators__.add (TFOpLamb  (None,)             0           ['tf.math.multiply_2[0][0]']     \n",
      " da)                                                                                              \n",
      "                                                                                                  \n",
      " dropout (Dropout)              (None, 16)           0           ['dense[0][0]']                  \n",
      "                                                                                                  \n",
      " tf.expand_dims (TFOpLambda)    (None, 1)            0           ['tf.__operators__.add[0][0]']   \n",
      "                                                                                                  \n",
      " dense_1 (Dense)                (None, 1)            17          ['dropout[0][0]']                \n",
      "                                                                                                  \n",
      " tf.__operators__.add_1 (TFOpLa  (None, 1)           0           ['tf.expand_dims[0][0]',         \n",
      " mbda)                                                            'dense_1[0][0]']                \n",
      "                                                                                                  \n",
      "==================================================================================================\n",
      "Total params: 56,794\n",
      "Trainable params: 56,794\n",
      "Non-trainable params: 0\n",
      "__________________________________________________________________________________________________\n",
      "Epoch 1/50\n",
      "817/819 [============================>.] - ETA: 0s - loss: 9.9063 - mae: 2.4311\n",
      "Epoch 1: val_mae improved from inf to 2.34734, saving model to data/models/jena_dense_0.keras\n",
      "819/819 [==============================] - 20s 23ms/step - loss: 9.9058 - mae: 2.4309 - val_loss: 9.3067 - val_mae: 2.3473\n",
      "Epoch 2/50\n",
      "817/819 [============================>.] - ETA: 0s - loss: 9.1475 - mae: 2.3312\n",
      "Epoch 2: val_mae improved from 2.34734 to 2.28941, saving model to data/models/jena_dense_0.keras\n",
      "819/819 [==============================] - 19s 23ms/step - loss: 9.1492 - mae: 2.3313 - val_loss: 8.9277 - val_mae: 2.2894\n",
      "Epoch 3/50\n",
      "817/819 [============================>.] - ETA: 0s - loss: 8.7354 - mae: 2.2670\n",
      "Epoch 3: val_mae did not improve from 2.28941\n",
      "819/819 [==============================] - 19s 23ms/step - loss: 8.7337 - mae: 2.2668 - val_loss: 9.1815 - val_mae: 2.3177\n",
      "Epoch 4/50\n",
      "817/819 [============================>.] - ETA: 0s - loss: 8.3337 - mae: 2.2064\n",
      "Epoch 4: val_mae did not improve from 2.28941\n",
      "819/819 [==============================] - 19s 23ms/step - loss: 8.3356 - mae: 2.2065 - val_loss: 9.3823 - val_mae: 2.3486\n",
      "Epoch 4: early stopping\n"
     ]
    },
    {
     "data": {
      "image/png": "[encoded data removed]",
      "text/plain": [
       "<Figure size 640x480 with 1 Axes>"
      ]
     },
     "metadata": {},
     "output_type": "display_data"
    }
   ],
   "source": [
    "model = new_model(l2_factor=1e-2, dropout_rate=0.5, fit_residual=True)\n",
    "model.summary()\n",
    "compile_and_fit(model, 'dense_0')"
   ]
  },
  {
   "cell_type": "code",
   "execution_count": 14,
   "metadata": {
    "colab": {
     "base_uri": "https://localhost:8080/"
    },
    "id": "T-aopaYOg8UY",
    "outputId": "7ca0e07d-f449-4fa0-8bdc-63f2c4ba6141"
   },
   "outputs": [
    {
     "name": "stdout",
     "output_type": "stream",
     "text": [
      "405/405 [==============================] - 4s 10ms/step - loss: 9.7928 - mae: 2.4117\n",
      "Test MAE: 2.41 for model tag: dense_0\n"
     ]
    }
   ],
   "source": [
    "evaluate_model('dense_0')"
   ]
  }
 ],
 "metadata": {
  "accelerator": "GPU",
  "colab": {
   "collapsed_sections": [],
   "name": "10.2_temperature_forecasting.ipynb",
   "provenance": []
  },
  "kernelspec": {
   "display_name": "Python 3",
   "language": "python",
   "name": "python3"
  },
  "language_info": {
   "codemirror_mode": {
    "name": "ipython",
    "version": 3
   },
   "file_extension": ".py",
   "mimetype": "text/x-python",
   "name": "python",
   "nbconvert_exporter": "python",
   "pygments_lexer": "ipython3",
   "version": "3.8.10"
  },
  "toc": {
   "base_numbering": 1,
   "nav_menu": {},
   "number_sections": true,
   "sideBar": true,
   "skip_h1_title": false,
   "title_cell": "Table of Contents",
   "title_sidebar": "Contents",
   "toc_cell": false,
   "toc_position": {},
   "toc_section_display": true,
   "toc_window_display": false
  }
 },
 "nbformat": 4,
 "nbformat_minor": 1
}
