{
 "cells": [
  {
   "cell_type": "markdown",
   "id": "49055370",
   "metadata": {},
   "source": [
    "# Momentum\n",
    "\n",
    "2.4.3 shows the following \"naive\" momentum code\n",
    "\n",
    "```\n",
    "past_velocity = 0.\n",
    "momentum = 0.1\n",
    "while loss > 0.01:\n",
    "    w, loss, gradient = get_current_parameters()\n",
    "    velocity = past_velocity * momentum - learning_rate * gradient\n",
    "    w = w + momentum * velocity - learning_rate * gradient\n",
    "    past_velocity = velocity\n",
    "    update_parameter(w)\n",
    "```\n",
    "\n",
    "what is going on? looks like we're double counting `gradient` when updating `w` ..."
   ]
  },
  {
   "cell_type": "markdown",
   "id": "8a6e1428",
   "metadata": {},
   "source": [
    "I used [Jason Brownlee: Gradient Descent With Momentum from Scratch](https://machinelearningmastery.com/gradient-descent-with-momentum-from-scratch/) as a start point for this notebook"
   ]
  },
  {
   "cell_type": "code",
   "execution_count": 1,
   "id": "6b738b94",
   "metadata": {},
   "outputs": [],
   "source": [
    "from numpy import asarray\n",
    "from numpy import arange\n",
    "from numpy.random import rand\n",
    "from numpy.random import seed\n",
    "from matplotlib import pyplot"
   ]
  },
  {
   "cell_type": "code",
   "execution_count": 2,
   "id": "66343f72",
   "metadata": {},
   "outputs": [],
   "source": [
    "# objective function\n",
    "def objective(x):\n",
    "    return x**2.0\n",
    " \n",
    "# derivative of objective function\n",
    "def derivative(x):\n",
    "    return x * 2.0 "
   ]
  },
  {
   "cell_type": "markdown",
   "id": "d6a47ebb",
   "metadata": {},
   "source": [
    "Small change to the Jason Brownlee code; when we \"take a step\" &darr; we use an `optimizer` - so we can run exactly the same `gradient_descent` code with different momentum implementations"
   ]
  },
  {
   "cell_type": "code",
   "execution_count": 3,
   "id": "12fe3370",
   "metadata": {},
   "outputs": [],
   "source": [
    "# gradient descent algorithm\n",
    "def gradient_descent(objective, derivative, bounds, n_iter, optimizer, solution):\n",
    "    # track all solutions\n",
    "    solutions, scores = list(), list()\n",
    "    # run the gradient descent\n",
    "    for i in range(n_iter):\n",
    "        # calculate gradient\n",
    "        gradient = derivative(solution)\n",
    "        # take a step\n",
    "        solution = optimizer.step(solution, gradient)\n",
    "        # evaluate candidate point\n",
    "        solution_eval = objective(solution)\n",
    "        # store solution\n",
    "        solutions.append(solution)\n",
    "        scores.append(solution_eval)\n",
    "        # report progress\n",
    "        print('>%d f(%s) = %.5f' % (i, solution, solution_eval))\n",
    "    return [solutions, scores]"
   ]
  },
  {
   "cell_type": "markdown",
   "id": "e260e28e",
   "metadata": {},
   "source": [
    "Note: with `seed(4)`, generating an initial point gives us `0.93405968`"
   ]
  },
  {
   "cell_type": "code",
   "execution_count": 4,
   "id": "2014d0df",
   "metadata": {},
   "outputs": [],
   "source": [
    "def learn(optimizer, solution=0.93405968, bounds=asarray([[-1.0, 1.0]])):\n",
    "    # define the total iterations\n",
    "    n_iter = 30\n",
    "    # perform the gradient descent search\n",
    "    solutions, scores = gradient_descent(objective, derivative, bounds, n_iter, optimizer, solution)\n",
    "    # sample input range uniformly at 0.1 increments\n",
    "    inputs = arange(bounds[0,0], bounds[0,1]+0.1, 0.1)\n",
    "    # compute targets\n",
    "    results = objective(inputs)\n",
    "    # create a line plot of input vs result\n",
    "    pyplot.plot(inputs, results)\n",
    "    # plot the solutions found\n",
    "    pyplot.plot(solutions, scores, '.-', color='red')\n",
    "    # show the plot\n",
    "    pyplot.show()"
   ]
  },
  {
   "cell_type": "markdown",
   "id": "f81b55bc",
   "metadata": {},
   "source": [
    "# Optimizers"
   ]
  },
  {
   "cell_type": "code",
   "execution_count": 5,
   "id": "d6d82e2a",
   "metadata": {},
   "outputs": [],
   "source": [
    "class Opimizer:\n",
    "    \"Gradient descent\"\n",
    "    def __init__(self, step_size=0.1):\n",
    "        self.step_size = step_size\n",
    "        \n",
    "    def step(self, solution, gradient):\n",
    "        return solution - self.step_size * gradient"
   ]
  },
  {
   "cell_type": "code",
   "execution_count": 6,
   "id": "c8e6f914",
   "metadata": {},
   "outputs": [],
   "source": [
    "class OptimizerWithBrowleeMomentum:\n",
    "    \"Gradient descent with momentum as Jason Brownlee did it\"\n",
    "    def __init__(self, step_size=0.1, momentum=0.3):\n",
    "        self.step_size = step_size\n",
    "        self.momentum = momentum\n",
    "        self.change = 0.0\n",
    "        \n",
    "    def step(self, solution, gradient):\n",
    "        new_change = self.step_size * gradient + self.momentum * self.change\n",
    "        solution = solution - new_change\n",
    "        self.change = new_change\n",
    "        return solution"
   ]
  },
  {
   "cell_type": "code",
   "execution_count": 7,
   "id": "f036f0d5",
   "metadata": {},
   "outputs": [],
   "source": [
    "class OptimizerWithFastaiMomentum:\n",
    "    \"Gradient descent with momentum as Fastai do it\"\n",
    "    # https://docs.fast.ai/optimizer.html\n",
    "    def __init__(self, step_size=0.1, momentum=0.3, dampening=False):\n",
    "        self.step_size = step_size\n",
    "        self.momentum = momentum                     # fastai call this mom\n",
    "        self.damp = 1 - momentum if dampening else 1\n",
    "        self.change = 0.0                            # fastai call this grad_avg\n",
    "        \n",
    "    def step(self, solution, gradient):\n",
    "        # https://github.com/fastai/fastai/blob/master/fastai/optimizer.py#L118\n",
    "        # grad_avg.mul_(mom).add_(p.grad.data, alpha=damp)\n",
    "        self.change = (self.change * self.momentum) + (gradient * self.damp)\n",
    "        # https://github.com/fastai/fastai/blob/master/fastai/optimizer.py#L137\n",
    "        # p.data.add_(grad_avg, alpha=-lr)\n",
    "        solution = solution + (self.change * -self.step_size)\n",
    "        return solution"
   ]
  },
  {
   "cell_type": "code",
   "execution_count": 8,
   "id": "14032a53",
   "metadata": {},
   "outputs": [],
   "source": [
    "class OptimizerWithNaiveMomentum:\n",
    "    \"Gradient descent with momentum as shown on 2.4.3 p55\"\n",
    "    def __init__(self, step_size=0.1, momentum=0.3):\n",
    "        self.step_size = step_size # learning_rate\n",
    "        self.momentum = momentum\n",
    "        self.change = 0.0          # past_velocity\n",
    "        \n",
    "    def step(self, solution, gradient):\n",
    "        new_change = self.change * self.momentum - self.step_size * gradient\n",
    "        solution = solution + self.momentum * new_change - self.step_size * gradient\n",
    "        self.change = new_change\n",
    "        return solution"
   ]
  },
  {
   "cell_type": "markdown",
   "id": "cc04116f",
   "metadata": {},
   "source": [
    "# Gradient descent without momentum\n",
    "\n",
    "Note: we can \"find\" the solution in one step if we use a step size (learning rate) of .5 ... but that's not the point of this noteboook (o:"
   ]
  },
  {
   "cell_type": "code",
   "execution_count": 9,
   "id": "57f93045",
   "metadata": {},
   "outputs": [
    {
     "name": "stdout",
     "output_type": "stream",
     "text": [
      ">0 f(0.7472477439999999) = 0.55838\n",
      ">1 f(0.5977981952) = 0.35736\n",
      ">2 f(0.47823855616) = 0.22871\n",
      ">3 f(0.382590844928) = 0.14638\n",
      ">4 f(0.3060726759424) = 0.09368\n",
      ">5 f(0.24485814075392) = 0.05996\n",
      ">6 f(0.195886512603136) = 0.03837\n",
      ">7 f(0.1567092100825088) = 0.02456\n",
      ">8 f(0.12536736806600704) = 0.01572\n",
      ">9 f(0.10029389445280563) = 0.01006\n",
      ">10 f(0.08023511556224451) = 0.00644\n",
      ">11 f(0.0641880924497956) = 0.00412\n",
      ">12 f(0.05135047395983648) = 0.00264\n",
      ">13 f(0.041080379167869184) = 0.00169\n",
      ">14 f(0.032864303334295346) = 0.00108\n",
      ">15 f(0.026291442667436278) = 0.00069\n",
      ">16 f(0.021033154133949024) = 0.00044\n",
      ">17 f(0.016826523307159218) = 0.00028\n",
      ">18 f(0.013461218645727375) = 0.00018\n",
      ">19 f(0.0107689749165819) = 0.00012\n",
      ">20 f(0.00861517993326552) = 0.00007\n",
      ">21 f(0.006892143946612415) = 0.00005\n",
      ">22 f(0.005513715157289932) = 0.00003\n",
      ">23 f(0.0044109721258319455) = 0.00002\n",
      ">24 f(0.0035287777006655563) = 0.00001\n",
      ">25 f(0.002823022160532445) = 0.00001\n",
      ">26 f(0.0022584177284259562) = 0.00001\n",
      ">27 f(0.001806734182740765) = 0.00000\n",
      ">28 f(0.001445387346192612) = 0.00000\n",
      ">29 f(0.0011563098769540895) = 0.00000\n"
     ]
    },
    {
     "data": {
      "image/png": "[encoded data removed]",
      "text/plain": [
       "<Figure size 432x288 with 1 Axes>"
      ]
     },
     "metadata": {
      "needs_background": "light"
     },
     "output_type": "display_data"
    }
   ],
   "source": [
    "learn(Opimizer())"
   ]
  },
  {
   "cell_type": "markdown",
   "id": "4e12643d",
   "metadata": {},
   "source": [
    "# With \"Brownlee\" momentum &darr;"
   ]
  },
  {
   "cell_type": "code",
   "execution_count": 10,
   "id": "daa75044",
   "metadata": {},
   "outputs": [
    {
     "name": "stdout",
     "output_type": "stream",
     "text": [
      ">0 f(0.7472477439999999) = 0.55838\n",
      ">1 f(0.5417546144) = 0.29350\n",
      ">2 f(0.37175575263999994) = 0.13820\n",
      ">3 f(0.24640494358399995) = 0.06072\n",
      ">4 f(0.15951871215039995) = 0.02545\n",
      ">5 f(0.10154910029023996) = 0.01031\n",
      ">6 f(0.06384839667414396) = 0.00408\n",
      ">7 f(0.03976850625448637) = 0.00158\n",
      ">8 f(0.02459083787769182) = 0.00060\n",
      ">9 f(0.01511936978911509) = 0.00023\n",
      ">10 f(0.009254055404719052) = 0.00009\n",
      ">11 f(0.00564365000845643) = 0.00003\n",
      ">12 f(0.0034317983878863574) = 0.00001\n",
      ">13 f(0.002081883224138064) = 0.00000\n",
      ">14 f(0.0012605320301859633) = 0.00000\n",
      ">15 f(0.0007620202659631404) = 0.00000\n",
      ">16 f(0.0004600626835036654) = 0.00000\n",
      ">17 f(0.00027746287206508987) = 0.00000\n",
      ">18 f(0.00016719035422049924) = 0.00000\n",
      ">19 f(0.0001006705280230222) = 0.00000\n",
      ">20 f(6.058047455917464e-05) = 0.00000\n",
      ">21 f(3.643736360818544e-05) = 0.00000\n",
      ">22 f(2.1906957601251594e-05) = 0.00000\n",
      ">23 f(1.316644427892112e-05) = 0.00000\n",
      ">24 f(7.911001426437753e-06) = 0.00000\n",
      ">25 f(4.752168285405193e-06) = 0.00000\n",
      ">26 f(2.854084686014386e-06) = 0.00000\n",
      ">27 f(1.713842668994267e-06) = 0.00000\n",
      ">28 f(1.0290015300893777e-06) = 0.00000\n",
      ">29 f(6.177488824000355e-07) = 0.00000\n"
     ]
    },
    {
     "data": {
      "image/png": "[encoded data removed]",
      "text/plain": [
       "<Figure size 432x288 with 1 Axes>"
      ]
     },
     "metadata": {
      "needs_background": "light"
     },
     "output_type": "display_data"
    }
   ],
   "source": [
    "learn(OptimizerWithBrowleeMomentum())"
   ]
  },
  {
   "cell_type": "markdown",
   "id": "7ff1058f",
   "metadata": {},
   "source": [
    "# With \"Fastai\" momentum &darr;\n",
    "\n",
    "`OptimizerWithFastaiMomentum(dampening=False)` does the same as `OptimizerWithBrowleeMomentum()`"
   ]
  },
  {
   "cell_type": "code",
   "execution_count": 11,
   "id": "193ad0a1",
   "metadata": {},
   "outputs": [
    {
     "name": "stdout",
     "output_type": "stream",
     "text": [
      ">0 f(0.8032913248) = 0.64528\n",
      ">1 f(0.651600032768) = 0.42458\n",
      ">2 f(0.51486864057088) = 0.26509\n",
      ">3 f(0.4017676132318208) = 0.16142\n",
      ">4 f(0.31158983917764815) = 0.09709\n",
      ">5 f(0.24091392947652562) = 0.05804\n",
      ">6 f(0.18598320643947527) = 0.03459\n",
      ">7 f(0.14346634062683364) = 0.02058\n",
      ">8 f(0.11062599319528443) = 0.01224\n",
      ">9 f(0.08528624991847986) = 0.00727\n",
      ">10 f(0.0657442519468513) = 0.00432\n",
      ">11 f(0.050677457282803554) = 0.00257\n",
      ">12 f(0.03906257486399673) = 0.00153\n",
      ">13 f(0.030109349657395142) = 0.00091\n",
      ">14 f(0.023208073143379346) = 0.00054\n",
      ">15 f(0.017888559949101497) = 0.00032\n",
      ">16 f(0.013788307597943934) = 0.00019\n",
      ">17 f(0.010627868828884513) = 0.00011\n",
      ">18 f(0.008191835562122855) = 0.00007\n",
      ">19 f(0.006314168603397158) = 0.00004\n",
      ">20 f(0.004866884911303847) = 0.00002\n",
      ">21 f(0.0037513359160933147) = 0.00001\n",
      ">22 f(0.002891484189277091) = 0.00001\n",
      ">23 f(0.0022287208847334315) = 0.00000\n",
      ">24 f(0.0017178709695076532) = 0.00000\n",
      ">25 f(0.0013241140592088483) = 0.00000\n",
      ">26 f(0.001020611017829968) = 0.00000\n",
      ">27 f(0.0007866745629201084) = 0.00000\n",
      ">28 f(0.0006063591876383354) = 0.00000\n",
      ">29 f(0.0004673742887844366) = 0.00000\n"
     ]
    },
    {
     "data": {
      "image/png": "[encoded data removed]",
      "text/plain": [
       "<Figure size 432x288 with 1 Axes>"
      ]
     },
     "metadata": {
      "needs_background": "light"
     },
     "output_type": "display_data"
    }
   ],
   "source": [
    "learn(OptimizerWithFastaiMomentum(dampening=True))"
   ]
  },
  {
   "cell_type": "markdown",
   "id": "4dff7846",
   "metadata": {},
   "source": [
    "# With \"naive\" momentum &darr;"
   ]
  },
  {
   "cell_type": "code",
   "execution_count": 12,
   "id": "06e537f0",
   "metadata": {},
   "outputs": [
    {
     "name": "stdout",
     "output_type": "stream",
     "text": [
      ">0 f(0.6912041631999999) = 0.47776\n",
      ">1 f(0.49467800652799987) = 0.24471\n",
      ">2 f(0.3485761276211199) = 0.12151\n",
      ">3 f(0.2437964511592447) = 0.05944\n",
      ">4 f(0.16989003857654572) = 0.02886\n",
      ">5 f(0.11817449184138881) = 0.01397\n",
      ">6 f(0.0821278622566734) = 0.00674\n",
      ">7 f(0.05705109870500702) = 0.00325\n",
      ">8 f(0.039622455711605685) = 0.00157\n",
      ">9 f(0.027515090250868228) = 0.00076\n",
      ">10 f(0.019106304490117593) = 0.00037\n",
      ">11 f(0.013266935009513923) = 0.00018\n",
      ">12 f(0.009212099332266256) = 0.00008\n",
      ">13 f(0.006396518903273566) = 0.00004\n",
      ">14 f(0.004441475819660606) = 0.00002\n",
      ">15 f(0.0030839703156613748) = 0.00001\n",
      ">16 f(0.002141374931569284) = 0.00000\n",
      ">17 f(0.0014868770530733254) = 0.00000\n",
      ">18 f(0.0010324221516196303) = 0.00000\n",
      ">19 f(0.0007168685449468174) = 0.00000\n",
      ">20 f(0.0004977619703559789) = 0.00000\n",
      ">21 f(0.00034562399838298185) = 0.00000\n",
      ">22 f(0.00023998608543286616) = 0.00000\n",
      ">23 f(0.00016663576923826517) = 0.00000\n",
      ">24 f(0.00011570453950390791) = 0.00000\n",
      ">25 f(8.034013646688058e-05) = 0.00000\n",
      ">26 f(5.578465244461791e-05) = 0.00000\n",
      ">27 f(3.8734405790351285e-05) = 0.00000\n",
      ">28 f(2.6895465435257032e-05) = 0.00000\n",
      ">29 f(1.8675026662983006e-05) = 0.00000\n"
     ]
    },
    {
     "data": {
      "image/png": "[encoded data removed]",
      "text/plain": [
       "<Figure size 432x288 with 1 Axes>"
      ]
     },
     "metadata": {
      "needs_background": "light"
     },
     "output_type": "display_data"
    }
   ],
   "source": [
    "learn(OptimizerWithNaiveMomentum())"
   ]
  },
  {
   "cell_type": "markdown",
   "id": "1abcd9f3",
   "metadata": {},
   "source": [
    "# What have we learned so far?\n",
    "\n",
    "It don't think it makes sense to read too much into the different momentum implementations using this problem - because our objective function is smooth. \n",
    "\n",
    "Having said that ... we can see that\n",
    "- \"Brownlee\" momentum converges fastest\n",
    "- momentum with dampening takes the longest to converge - but is still faster than no momentum\n",
    "- \"Naive\" momentum takes just a little longer than \"Brownlee\"\n",
    "    - even though it takes the biggest steps for the first few steps"
   ]
  },
  {
   "cell_type": "markdown",
   "id": "69b7a12b",
   "metadata": {},
   "source": [
    "# Can we use momentum to get over a local minimum?\n",
    "\n",
    "I borrowed the polynomial from https://mathonweb.com/help_ebook/html/functions_4.htm and calculated it's derivitive with https://www.derivative-calculator.net/"
   ]
  },
  {
   "cell_type": "code",
   "execution_count": 13,
   "id": "b6295e0b",
   "metadata": {},
   "outputs": [],
   "source": [
    "# objective function\n",
    "def objective(x):\n",
    "    return x**5 - 8*x**3 + 10*x + 6\n",
    " \n",
    "# derivative of objective function\n",
    "def derivative(x):\n",
    "    return 5*x**4 - 24*x**2 + 10"
   ]
  },
  {
   "cell_type": "markdown",
   "id": "47d60cda",
   "metadata": {},
   "source": [
    "here's the new objective function &darr;"
   ]
  },
  {
   "cell_type": "code",
   "execution_count": 14,
   "id": "8d86ae0d",
   "metadata": {},
   "outputs": [
    {
     "data": {
      "image/png": "[encoded data removed]",
      "text/plain": [
       "<Figure size 432x288 with 1 Axes>"
      ]
     },
     "metadata": {
      "needs_background": "light"
     },
     "output_type": "display_data"
    }
   ],
   "source": [
    "inputs = arange(-3, 3.1, 0.1)\n",
    "results = objective(inputs)\n",
    "pyplot.plot(inputs, results)\n",
    "pyplot.show()"
   ]
  },
  {
   "cell_type": "markdown",
   "id": "c33ae25c",
   "metadata": {},
   "source": [
    "We'll ignore the extremes at -3 and 3 and pretend we just have\n",
    "- a local minimum near -1 and\n",
    "- a global minimum near 2 \n",
    "\n",
    "so ... we want to start at -2, skip over the dip near -1 and end up in the dip near 2"
   ]
  },
  {
   "cell_type": "code",
   "execution_count": 15,
   "id": "751f41d3",
   "metadata": {},
   "outputs": [
    {
     "name": "stdout",
     "output_type": "stream",
     "text": [
      ">0 f(-1.82) = 16.05952\n",
      ">1 f(-1.3808710640000004) = 8.23499\n",
      ">2 f(-0.8533572756813219) = 1.98534\n",
      ">3 f(-0.7085852130487796) = 1.58172\n",
      ">4 f(-0.6848928577824471) = 1.57052\n",
      ">5 f(-0.680161692006991) = 1.57007\n",
      ">6 f(-0.6791779239364699) = 1.57005\n",
      ">7 f(-0.6789716670409682) = 1.57005\n",
      ">8 f(-0.6789283484562818) = 1.57005\n",
      ">9 f(-0.6789192472819288) = 1.57005\n",
      ">10 f(-0.6789173349922889) = 1.57005\n",
      ">11 f(-0.6789169331858828) = 1.57005\n",
      ">12 f(-0.6789168487588548) = 1.57005\n",
      ">13 f(-0.6789168310191475) = 1.57005\n",
      ">14 f(-0.6789168272917006) = 1.57005\n",
      ">15 f(-0.6789168265084937) = 1.57005\n",
      ">16 f(-0.6789168263439271) = 1.57005\n",
      ">17 f(-0.6789168263093486) = 1.57005\n",
      ">18 f(-0.6789168263020829) = 1.57005\n",
      ">19 f(-0.6789168263005563) = 1.57005\n",
      ">20 f(-0.6789168263002355) = 1.57005\n",
      ">21 f(-0.6789168263001681) = 1.57005\n",
      ">22 f(-0.678916826300154) = 1.57005\n",
      ">23 f(-0.678916826300151) = 1.57005\n",
      ">24 f(-0.6789168263001505) = 1.57005\n",
      ">25 f(-0.6789168263001503) = 1.57005\n",
      ">26 f(-0.6789168263001503) = 1.57005\n",
      ">27 f(-0.6789168263001503) = 1.57005\n",
      ">28 f(-0.6789168263001503) = 1.57005\n",
      ">29 f(-0.6789168263001503) = 1.57005\n"
     ]
    },
    {
     "data": {
      "image/png": "[encoded data removed]",
      "text/plain": [
       "<Figure size 432x288 with 1 Axes>"
      ]
     },
     "metadata": {
      "needs_background": "light"
     },
     "output_type": "display_data"
    }
   ],
   "source": [
    "learn(Opimizer(0.03), solution=-2, bounds=asarray([[-3.0, 3.0]]))"
   ]
  },
  {
   "cell_type": "markdown",
   "id": "521a358f",
   "metadata": {},
   "source": [
    "&uarr; no surprise (o: but if we don't use momentum, we stop in the local miminum\n",
    "\n",
    "&darr; `1.13` is the largest momentum we can use without causing overflow errors (and we are still stuck in the local minimum)"
   ]
  },
  {
   "cell_type": "code",
   "execution_count": 16,
   "id": "c8959614",
   "metadata": {},
   "outputs": [
    {
     "name": "stdout",
     "output_type": "stream",
     "text": [
      ">0 f(-1.6166) = 12.59141\n",
      ">1 f(-0.1999872839763548) = 4.06380\n",
      ">2 f(0.19300884907922328) = 7.87284\n",
      ">3 f(0.36151266982020563) = 9.24333\n",
      ">4 f(0.41681985294500545) = 9.60144\n",
      ">5 f(0.33268318699671545) = 9.03634\n",
      ">6 f(-0.03280656123670658) = 5.67222\n",
      ">7 f(-0.8321311685883543) = 1.88932\n",
      ">8 f(-1.1275066311045232) = 4.36967\n",
      ">9 f(-0.8101128776388975) = 1.80326\n",
      ">10 f(-0.6429656098005975) = 1.58690\n",
      ">11 f(-0.6356421788937177) = 1.59441\n",
      ">12 f(-0.6672655279302364) = 1.57183\n",
      ">13 f(-0.6845700127850829) = 1.57047\n",
      ">14 f(-0.6842402672264484) = 1.57042\n",
      ">15 f(-0.6799497365989972) = 1.57006\n",
      ">16 f(-0.6781241512642564) = 1.57006\n",
      ">17 f(-0.6783167722825119) = 1.57005\n",
      ">18 f(-0.678836461145076) = 1.57005\n",
      ">19 f(-0.6790234520962432) = 1.57005\n",
      ">20 f(-0.6789836232966727) = 1.57005\n",
      ">21 f(-0.6789214059052227) = 1.57005\n",
      ">22 f(-0.6789030175429717) = 1.57005\n",
      ">23 f(-0.6789095586750425) = 1.57005\n",
      ">24 f(-0.6789168523556621) = 1.57005\n",
      ">25 f(-0.6789185635631425) = 1.57005\n",
      ">26 f(-0.6789175976292724) = 1.57005\n",
      ">27 f(-0.6789167590257571) = 1.57005\n",
      ">28 f(-0.6789166130514868) = 1.57005\n",
      ">29 f(-0.6789167468332563) = 1.57005\n"
     ]
    },
    {
     "data": {
      "image/png": "[encoded data removed]",
      "text/plain": [
       "<Figure size 432x288 with 1 Axes>"
      ]
     },
     "metadata": {
      "needs_background": "light"
     },
     "output_type": "display_data"
    }
   ],
   "source": [
    "learn(OptimizerWithNaiveMomentum(.03, 1.13), solution=-2, bounds=asarray([[-3.0, 3.0]]))"
   ]
  },
  {
   "cell_type": "markdown",
   "id": "9dc35b60",
   "metadata": {},
   "source": [
    "The steep slope near 3 is the \"cause\" of the overflow errors ... i.e. gradients end up really big\n",
    "\n",
    "Can we avoid overflow errors if we limit the magnitude of the gradients?"
   ]
  },
  {
   "cell_type": "code",
   "execution_count": 17,
   "id": "f9be0448",
   "metadata": {},
   "outputs": [],
   "source": [
    "class OptimizerWithNaiveMomentumAndGradientClipping:\n",
    "    \"Gradient descent with momentum as shown on 2.4.3 p55 and gradient clipping\"\n",
    "    def __init__(self, step_size=0.1, momentum=0.3, max_gradient=1000):\n",
    "        self.step_size = step_size # learning_rate\n",
    "        self.momentum = momentum\n",
    "        self.change = 0.0          # past_velocity\n",
    "        self.max_gradient = max_gradient\n",
    "        \n",
    "    def step(self, solution, gradient):\n",
    "        if gradient > self.max_gradient:\n",
    "            gradient = self.max_gradient\n",
    "        elif gradient < -self.max_gradient:\n",
    "            gradient = -self.max_gradient\n",
    "        new_change = self.change * self.momentum - self.step_size * gradient\n",
    "        solution = solution + self.momentum * new_change - self.step_size * gradient\n",
    "        self.change = new_change\n",
    "        return solution"
   ]
  },
  {
   "cell_type": "markdown",
   "id": "b5ae649a",
   "metadata": {},
   "source": [
    "Increasing `step_size` or `momentum` by just `0.01` sends the solution way off (i.e. we diverge from the correct answer)"
   ]
  },
  {
   "cell_type": "code",
   "execution_count": 18,
   "id": "19fbae3b",
   "metadata": {},
   "outputs": [
    {
     "name": "stdout",
     "output_type": "stream",
     "text": [
      ">0 f(-1.6148) = 12.55797\n",
      ">1 f(-0.18774358756899046) = 4.17527\n",
      ">2 f(0.21541972832648554) = 8.07469\n",
      ">3 f(0.4171176545802218) = 9.60322\n",
      ">4 f(0.5676939939119435) = 10.27227\n",
      ">5 f(0.7649426531181098) = 10.33056\n",
      ">6 f(1.2347157319797677) = 6.15803\n",
      ">7 f(2.651450629929802) = 14.43706\n",
      ">8 f(-1.9202179076337584) = 17.33347\n",
      ">9 f(-3.433798709975402) = -181.82628\n",
      ">10 f(-32.62105100020859) = -36662007.39759\n",
      ">11 f(-115.65692281163098) = -20682278275.06390\n",
      ">12 f(-240.3178166766525) = -801437549522.40894\n",
      ">13 f(-412.431235682777) = -11932661503186.05078\n",
      ">14 f(-638.6405333497589) = -106236529841271.14062\n",
      ">15 f(-926.5191326901183) = -682759752814538.12500\n",
      ">16 f(-1284.700735938128) = -3499514194758871.00000\n",
      ">17 f(-1723.0277636408591) = -15186587851573518.00000\n",
      ">18 f(-2252.7205752219725) = -58014418543619400.00000\n",
      ">19 f(-2886.5703804244417) = -200405823681045664.00000\n",
      ">20 f(-3639.1591583552563) = -638270815183183872.00000\n",
      ">21 f(-4527.110365196385) = -1901539018584943616.00000\n",
      ">22 f(-5569.374740995272) = -5358362515139133440.00000\n",
      ">23 f(-6787.556129406003) = -14406785647783055360.00000\n",
      ">24 f(-8206.282912194236) = -37216229784138309632.00000\n",
      ">25 f(-9853.63144457282) = -92892689232741990400.00000\n",
      ">26 f(-11761.608771484407) = -225078297428094844928.00000\n",
      ">27 f(-13966.702924163616) = -531458626205554114560.00000\n",
      ">28 f(-16510.510258217913) = -1226881065635774988288.00000\n",
      ">29 f(-19440.450619039813) = -2776717055666532909056.00000\n"
     ]
    },
    {
     "data": {
      "image/png": "[encoded data removed]",
      "text/plain": [
       "<Figure size 432x288 with 1 Axes>"
      ]
     },
     "metadata": {
      "needs_background": "light"
     },
     "output_type": "display_data"
    }
   ],
   "source": [
    "learn(OptimizerWithNaiveMomentumAndGradientClipping(.03, 1.14), solution=-2, bounds=asarray([[-3.0, 3.0]]))"
   ]
  },
  {
   "cell_type": "markdown",
   "id": "b335d238",
   "metadata": {},
   "source": [
    "but with gradient clipping we can just about keep the solution in the dip of the global min ..."
   ]
  },
  {
   "cell_type": "code",
   "execution_count": 19,
   "id": "446ac760",
   "metadata": {},
   "outputs": [
    {
     "name": "stdout",
     "output_type": "stream",
     "text": [
      ">0 f(-1.6148) = 12.55797\n",
      ">1 f(-0.18774358756899046) = 4.17527\n",
      ">2 f(0.21541972832648554) = 8.07469\n",
      ">3 f(0.4171176545802218) = 9.60322\n",
      ">4 f(0.5676939939119435) = 10.27227\n",
      ">5 f(0.7649426531181098) = 10.33056\n",
      ">6 f(1.2347157319797677) = 6.15803\n",
      ">7 f(2.651450629929802) = 14.43706\n",
      ">8 f(2.470633088074884) = 2.11353\n",
      ">9 f(1.6645010903602775) = -1.47109\n",
      ">10 f(2.592391666890126) = 9.63218\n",
      ">11 f(1.7467082318566156) = -2.90713\n",
      ">12 f(2.5375533217390416) = 5.87207\n",
      ">13 f(1.5846243902631776) = 0.00540\n",
      ">14 f(2.3852879114380916) = -1.50234\n",
      ">15 f(1.3731925248833652) = 3.89962\n",
      ">16 f(2.0254438791399267) = -6.13142\n",
      ">17 f(2.44791188371269) = 1.02866\n",
      ">18 f(1.4981650912247786) = 1.62803\n",
      ">19 f(2.298651751824166) = -4.00341\n",
      ">20 f(1.2883814399539202) = 5.32481\n",
      ">21 f(1.8518188758759908) = -4.50764\n",
      ">22 f(2.811753694788777) = 32.02704\n",
      ">23 f(2.160263257992249) = -6.00126\n",
      ">24 f(1.6591946423641064) = -1.37480\n",
      ">25 f(2.490608294765522) = 3.14522\n",
      ">26 f(1.5327591686691004) = 0.97967\n",
      ">27 f(2.3309476860551355) = -3.19699\n",
      ">28 f(1.3143612715317623) = 4.90126\n",
      ">29 f(1.901258168951577) = -5.12542\n"
     ]
    },
    {
     "data": {
      "image/png": "[encoded data removed]",
      "text/plain": [
       "<Figure size 432x288 with 1 Axes>"
      ]
     },
     "metadata": {
      "needs_background": "light"
     },
     "output_type": "display_data"
    }
   ],
   "source": [
    "learn(OptimizerWithNaiveMomentumAndGradientClipping(.03, 1.14, 20), solution=-2, bounds=asarray([[-3.0, 3.0]]))"
   ]
  },
  {
   "cell_type": "markdown",
   "id": "00548bfd",
   "metadata": {},
   "source": [
    "... but we're still bouncing around a lot.\n",
    "\n",
    "Thought it might be fun to write a function that will take an `objective` and create the corresponding `derivative`"
   ]
  },
  {
   "cell_type": "code",
   "execution_count": 20,
   "id": "7e217153",
   "metadata": {},
   "outputs": [],
   "source": [
    "import inspect\n",
    "\n",
    "def create_derivative_fn(objective_fn, derivative_fn_name='derivative'):\n",
    "    source = inspect.getsource(objective_fn)\n",
    "    source = source[source.index('return')+6:].strip()\n",
    "    def split_pair(s, sep, dflt):\n",
    "        return s.split(sep) if sep in s else dflt\n",
    "    derivative_bits = []\n",
    "    for source_bit in source.split(' '):\n",
    "        if source_bit in ('-', '+'):\n",
    "            derivative_bits.append(source_bit)\n",
    "        else:\n",
    "            multiply, exponent = split_pair(source_bit, '**', [source_bit, 1])\n",
    "            if 'x' not in multiply:\n",
    "                factor = 0\n",
    "            else:\n",
    "                factor, _ = split_pair(multiply, '*', [1, 1])\n",
    "            factor, exponent = [int(s) for s in [factor, exponent]]\n",
    "            derivative_bits.append(f'{factor*exponent}*x**{exponent-1}')\n",
    "    derivative = ' '.join(derivative_bits)\n",
    "    fn_string = f'def {derivative_fn_name}(x):\\n    return {derivative}'\n",
    "    print(fn_string)\n",
    "    exec(fn_string, globals())"
   ]
  },
  {
   "cell_type": "markdown",
   "id": "8cecef2b",
   "metadata": {},
   "source": [
    "now we can quickly play around with different objective functions (as long as we stick to the simple syntax)"
   ]
  },
  {
   "cell_type": "code",
   "execution_count": 21,
   "id": "d65a3738",
   "metadata": {},
   "outputs": [
    {
     "name": "stdout",
     "output_type": "stream",
     "text": [
      "def derivative(x):\n",
      "    return 4*x**3 - 16*x**1 + 10*x**0 + 0*x**0\n"
     ]
    }
   ],
   "source": [
    "def objective(x):\n",
    "    return x**4 - 8*x**2 + 10*x + 6\n",
    " \n",
    "create_derivative_fn(objective)"
   ]
  },
  {
   "cell_type": "code",
   "execution_count": 22,
   "id": "27fd29d2",
   "metadata": {},
   "outputs": [
    {
     "name": "stdout",
     "output_type": "stream",
     "text": [
      ">0 f(-0.13) = 4.56509\n",
      ">1 f(-0.295925756) = 2.34783\n",
      ">2 f(-0.4996948330956107) = -0.93216\n",
      ">3 f(-0.7443805173791262) = -5.56959\n",
      ">4 f(-1.0252981258493943) = -11.55777\n",
      ">5 f(-1.3095734083904746) = -17.87443\n",
      ">6 f(-1.5948559931527988) = -23.82736\n",
      ">7 f(-1.8712265281924456) = -28.46375\n",
      ">8 f(-2.074771083539856) = -30.65488\n",
      ">9 f(-2.1917697087087724) = -31.27152\n",
      ">10 f(-2.2428379480014304) = -31.36682\n",
      ">11 f(-2.259136824264747) = -31.37322\n",
      ">12 f(-2.2620994429424224) = -31.37310\n",
      ">13 f(-2.261506290143958) = -31.37315\n",
      ">14 f(-2.2605992398425054) = -31.37321\n",
      ">15 f(-2.2600519840544977) = -31.37322\n",
      ">16 f(-2.2598116089953106) = -31.37322\n",
      ">17 f(-2.259730429356357) = -31.37322\n",
      ">18 f(-2.2597121346823688) = -31.37322\n",
      ">19 f(-2.259712446398035) = -31.37322\n",
      ">20 f(-2.259715671626587) = -31.37322\n",
      ">21 f(-2.2597179149304525) = -31.37322\n",
      ">22 f(-2.2597189813532066) = -31.37322\n",
      ">23 f(-2.259719371731367) = -31.37322\n",
      ">24 f(-2.2597194743742506) = -31.37322\n",
      ">25 f(-2.259719483306453) = -31.37322\n",
      ">26 f(-2.259719472809838) = -31.37322\n",
      ">27 f(-2.259719463876) = -31.37322\n",
      ">28 f(-2.25971945924361) = -31.37322\n",
      ">29 f(-2.259719457414757) = -31.37322\n"
     ]
    },
    {
     "data": {
      "image/png": "[encoded data removed]",
      "text/plain": [
       "<Figure size 432x288 with 1 Axes>"
      ]
     },
     "metadata": {
      "needs_background": "light"
     },
     "output_type": "display_data"
    }
   ],
   "source": [
    "learn(OptimizerWithNaiveMomentumAndGradientClipping(.01, 0.3, 20), solution=0, bounds=asarray([[-3.0, 3.0]]))"
   ]
  }
 ],
 "metadata": {
  "kernelspec": {
   "display_name": "Python 3",
   "language": "python",
   "name": "python3"
  },
  "language_info": {
   "codemirror_mode": {
    "name": "ipython",
    "version": 3
   },
   "file_extension": ".py",
   "mimetype": "text/x-python",
   "name": "python",
   "nbconvert_exporter": "python",
   "pygments_lexer": "ipython3",
   "version": "3.9.0"
  }
 },
 "nbformat": 4,
 "nbformat_minor": 5
}
