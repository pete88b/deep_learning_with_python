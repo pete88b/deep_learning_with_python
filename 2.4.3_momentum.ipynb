{
 "cells": [
  {
   "cell_type": "markdown",
   "id": "49055370",
   "metadata": {},
   "source": [
    "# Momentum\n",
    "\n",
    "2.4.3 shows the following \"naive\" momentum code\n",
    "\n",
    "```\n",
    "past_velocity = 0.\n",
    "momentum = 0.1\n",
    "while loss > 0.01:\n",
    "    w, loss, gradient = get_current_parameters()\n",
    "    velocity = past_velocity * momentum - learning_rate * gradient\n",
    "    w = w + momentum * velocity - learning_rate * gradient\n",
    "    past_velocity = velocity\n",
    "    update_parameter(w)\n",
    "```\n",
    "\n",
    "what is going on? looks like we're double counting `gradient` when updating `w` ..."
   ]
  },
  {
   "cell_type": "markdown",
   "id": "8a6e1428",
   "metadata": {},
   "source": [
    "I used [Jason Brownlee: Gradient Descent With Momentum from Scratch](https://machinelearningmastery.com/gradient-descent-with-momentum-from-scratch/) as a start point for this notebook"
   ]
  },
  {
   "cell_type": "code",
   "execution_count": 1,
   "id": "6b738b94",
   "metadata": {},
   "outputs": [],
   "source": [
    "from numpy import asarray\n",
    "from numpy import arange\n",
    "from numpy.random import rand\n",
    "from numpy.random import seed\n",
    "from matplotlib import pyplot"
   ]
  },
  {
   "cell_type": "code",
   "execution_count": 2,
   "id": "66343f72",
   "metadata": {},
   "outputs": [],
   "source": [
    "# objective function\n",
    "def objective(x):\n",
    "    return x**2.0\n",
    " \n",
    "# derivative of objective function\n",
    "def derivative(x):\n",
    "    return x * 2.0 "
   ]
  },
  {
   "cell_type": "markdown",
   "id": "d6a47ebb",
   "metadata": {},
   "source": [
    "Samll change to the Jason Brownlee code; when we \"take a step\" &darr; we use an `optimizer` - so we can run exactly the same `gradient_descent` code with different momentum implementations"
   ]
  },
  {
   "cell_type": "code",
   "execution_count": 3,
   "id": "12fe3370",
   "metadata": {},
   "outputs": [],
   "source": [
    "# gradient descent algorithm\n",
    "def gradient_descent(objective, derivative, bounds, n_iter, optimizer):\n",
    "    # track all solutions\n",
    "    solutions, scores = list(), list()\n",
    "    # generate an initial point\n",
    "    solution = bounds[:, 0] + rand(len(bounds)) * (bounds[:, 1] - bounds[:, 0])\n",
    "    # run the gradient descent\n",
    "    for i in range(n_iter):\n",
    "        # calculate gradient\n",
    "        gradient = derivative(solution)\n",
    "        # take a step\n",
    "        solution = optimizer.step(solution, gradient)\n",
    "        # evaluate candidate point\n",
    "        solution_eval = objective(solution)\n",
    "        # store solution\n",
    "        solutions.append(solution)\n",
    "        scores.append(solution_eval)\n",
    "        # report progress\n",
    "        print('>%d f(%s) = %.5f' % (i, solution, solution_eval))\n",
    "    return [solutions, scores]"
   ]
  },
  {
   "cell_type": "code",
   "execution_count": 4,
   "id": "2014d0df",
   "metadata": {},
   "outputs": [],
   "source": [
    "def learn(optimizer):\n",
    "    # seed the pseudo random number generator\n",
    "    seed(4)\n",
    "    # define range for input\n",
    "    bounds = asarray([[-1.0, 1.0]])\n",
    "    # define the total iterations\n",
    "    n_iter = 30\n",
    "    # perform the gradient descent search\n",
    "    solutions, scores = gradient_descent(objective, derivative, bounds, n_iter, optimizer)\n",
    "    # sample input range uniformly at 0.1 increments\n",
    "    inputs = arange(bounds[0,0], bounds[0,1]+0.1, 0.1)\n",
    "    # compute targets\n",
    "    results = objective(inputs)\n",
    "    # create a line plot of input vs result\n",
    "    pyplot.plot(inputs, results)\n",
    "    # plot the solutions found\n",
    "    pyplot.plot(solutions, scores, '.-', color='red')\n",
    "    # show the plot\n",
    "    pyplot.show()"
   ]
  },
  {
   "cell_type": "markdown",
   "id": "f81b55bc",
   "metadata": {},
   "source": [
    "# Optimizers"
   ]
  },
  {
   "cell_type": "code",
   "execution_count": 5,
   "id": "d6d82e2a",
   "metadata": {},
   "outputs": [],
   "source": [
    "class Opimizer:\n",
    "    \"Gradient descent\"\n",
    "    def __init__(self, step_size=0.1):\n",
    "        self.step_size = step_size\n",
    "        \n",
    "    def step(self, solution, gradient):\n",
    "        return solution - self.step_size * gradient"
   ]
  },
  {
   "cell_type": "code",
   "execution_count": 6,
   "id": "c8e6f914",
   "metadata": {},
   "outputs": [],
   "source": [
    "class OptimizerWithBrowleeMomentum:\n",
    "    \"Gradient descent with momentum as Jason Brownlee did it\"\n",
    "    def __init__(self, step_size=0.1, momentum=0.3):\n",
    "        self.step_size = step_size\n",
    "        self.momentum = momentum\n",
    "        self.change = 0.0\n",
    "        \n",
    "    def step(self, solution, gradient):\n",
    "        new_change = self.step_size * gradient + self.momentum * self.change\n",
    "        solution = solution - new_change\n",
    "        self.change = new_change\n",
    "        return solution"
   ]
  },
  {
   "cell_type": "code",
   "execution_count": 7,
   "id": "f036f0d5",
   "metadata": {},
   "outputs": [],
   "source": [
    "class OptimizerWithFastaiMomentum:\n",
    "    \"Gradient descent with momentum as Fastai do it\"\n",
    "    # https://docs.fast.ai/optimizer.html\n",
    "    def __init__(self, step_size=0.1, momentum=0.3, dampening=False):\n",
    "        self.step_size = step_size\n",
    "        self.momentum = momentum                     # fastai call this mom\n",
    "        self.damp = 1 - momentum if dampening else 1\n",
    "        self.change = 0.0                            # fastai call this grad_avg\n",
    "        \n",
    "    def step(self, solution, gradient):\n",
    "        # https://github.com/fastai/fastai/blob/master/fastai/optimizer.py#L118\n",
    "        # grad_avg.mul_(mom).add_(p.grad.data, alpha=damp)\n",
    "        self.change = (self.change * self.momentum) + (gradient * self.damp)\n",
    "        # https://github.com/fastai/fastai/blob/master/fastai/optimizer.py#L137\n",
    "        # p.data.add_(grad_avg, alpha=-lr)\n",
    "        solution = solution + (self.change * -self.step_size)\n",
    "        return solution"
   ]
  },
  {
   "cell_type": "code",
   "execution_count": 8,
   "id": "14032a53",
   "metadata": {},
   "outputs": [],
   "source": [
    "class OptimizerWithNaiveMomentum:\n",
    "    \"Gradient descent with momentum as shown on 2.4.3 p55\"\n",
    "    def __init__(self, step_size=0.1, momentum=0.3):\n",
    "        self.step_size = step_size # learning_rate\n",
    "        self.momentum = momentum\n",
    "        self.change = 0.0          # past_velocity\n",
    "        \n",
    "    def step(self, solution, gradient):\n",
    "        new_change = self.change * self.momentum - self.step_size * gradient\n",
    "        solution = solution + self.momentum * new_change - self.step_size * gradient\n",
    "        self.change = new_change\n",
    "        return solution"
   ]
  },
  {
   "cell_type": "markdown",
   "id": "cc04116f",
   "metadata": {},
   "source": [
    "# Gradient descent without momentum\n",
    "\n",
    "Note: we can \"find\" the solution in one step if we use a step size (learning rate) of .5 ... but that's not the point of this noteboook (o:"
   ]
  },
  {
   "cell_type": "code",
   "execution_count": 16,
   "id": "57f93045",
   "metadata": {},
   "outputs": [
    {
     "name": "stdout",
     "output_type": "stream",
     "text": [
      ">0 f([0.74724774]) = 0.55838\n",
      ">1 f([0.59779819]) = 0.35736\n",
      ">2 f([0.47823856]) = 0.22871\n",
      ">3 f([0.38259084]) = 0.14638\n",
      ">4 f([0.30607268]) = 0.09368\n",
      ">5 f([0.24485814]) = 0.05996\n",
      ">6 f([0.19588651]) = 0.03837\n",
      ">7 f([0.15670921]) = 0.02456\n",
      ">8 f([0.12536737]) = 0.01572\n",
      ">9 f([0.10029389]) = 0.01006\n",
      ">10 f([0.08023512]) = 0.00644\n",
      ">11 f([0.06418809]) = 0.00412\n",
      ">12 f([0.05135047]) = 0.00264\n",
      ">13 f([0.04108038]) = 0.00169\n",
      ">14 f([0.0328643]) = 0.00108\n",
      ">15 f([0.02629144]) = 0.00069\n",
      ">16 f([0.02103315]) = 0.00044\n",
      ">17 f([0.01682652]) = 0.00028\n",
      ">18 f([0.01346122]) = 0.00018\n",
      ">19 f([0.01076897]) = 0.00012\n",
      ">20 f([0.00861518]) = 0.00007\n",
      ">21 f([0.00689214]) = 0.00005\n",
      ">22 f([0.00551372]) = 0.00003\n",
      ">23 f([0.00441097]) = 0.00002\n",
      ">24 f([0.00352878]) = 0.00001\n",
      ">25 f([0.00282302]) = 0.00001\n",
      ">26 f([0.00225842]) = 0.00001\n",
      ">27 f([0.00180673]) = 0.00000\n",
      ">28 f([0.00144539]) = 0.00000\n",
      ">29 f([0.00115631]) = 0.00000\n"
     ]
    },
    {
     "data": {
      "image/png": "[encoded data removed]",
      "text/plain": [
       "<Figure size 432x288 with 1 Axes>"
      ]
     },
     "metadata": {
      "needs_background": "light"
     },
     "output_type": "display_data"
    }
   ],
   "source": [
    "learn(Opimizer())"
   ]
  },
  {
   "cell_type": "markdown",
   "id": "4e12643d",
   "metadata": {},
   "source": [
    "# With \"Brownlee\" momentum &darr;"
   ]
  },
  {
   "cell_type": "code",
   "execution_count": 10,
   "id": "daa75044",
   "metadata": {},
   "outputs": [
    {
     "name": "stdout",
     "output_type": "stream",
     "text": [
      ">0 f([0.74724774]) = 0.55838\n",
      ">1 f([0.54175461]) = 0.29350\n",
      ">2 f([0.37175575]) = 0.13820\n",
      ">3 f([0.24640494]) = 0.06072\n",
      ">4 f([0.15951871]) = 0.02545\n",
      ">5 f([0.1015491]) = 0.01031\n",
      ">6 f([0.0638484]) = 0.00408\n",
      ">7 f([0.03976851]) = 0.00158\n",
      ">8 f([0.02459084]) = 0.00060\n",
      ">9 f([0.01511937]) = 0.00023\n",
      ">10 f([0.00925406]) = 0.00009\n",
      ">11 f([0.00564365]) = 0.00003\n",
      ">12 f([0.0034318]) = 0.00001\n",
      ">13 f([0.00208188]) = 0.00000\n",
      ">14 f([0.00126053]) = 0.00000\n",
      ">15 f([0.00076202]) = 0.00000\n",
      ">16 f([0.00046006]) = 0.00000\n",
      ">17 f([0.00027746]) = 0.00000\n",
      ">18 f([0.00016719]) = 0.00000\n",
      ">19 f([0.00010067]) = 0.00000\n",
      ">20 f([6.05804744e-05]) = 0.00000\n",
      ">21 f([3.64373635e-05]) = 0.00000\n",
      ">22 f([2.19069576e-05]) = 0.00000\n",
      ">23 f([1.31664443e-05]) = 0.00000\n",
      ">24 f([7.91100141e-06]) = 0.00000\n",
      ">25 f([4.75216828e-06]) = 0.00000\n",
      ">26 f([2.85408468e-06]) = 0.00000\n",
      ">27 f([1.71384267e-06]) = 0.00000\n",
      ">28 f([1.02900153e-06]) = 0.00000\n",
      ">29 f([6.17748881e-07]) = 0.00000\n"
     ]
    },
    {
     "data": {
      "image/png": "[encoded data removed]",
      "text/plain": [
       "<Figure size 432x288 with 1 Axes>"
      ]
     },
     "metadata": {
      "needs_background": "light"
     },
     "output_type": "display_data"
    }
   ],
   "source": [
    "learn(OptimizerWithBrowleeMomentum())"
   ]
  },
  {
   "cell_type": "markdown",
   "id": "7ff1058f",
   "metadata": {},
   "source": [
    "# With \"Fastai\" momentum &darr;\n",
    "\n",
    "`OptimizerWithFastaiMomentum(dampening=False)` does the same as `OptimizerWithBrowleeMomentum()`"
   ]
  },
  {
   "cell_type": "code",
   "execution_count": 11,
   "id": "193ad0a1",
   "metadata": {},
   "outputs": [
    {
     "name": "stdout",
     "output_type": "stream",
     "text": [
      ">0 f([0.80329132]) = 0.64528\n",
      ">1 f([0.65160003]) = 0.42458\n",
      ">2 f([0.51486864]) = 0.26509\n",
      ">3 f([0.40176761]) = 0.16142\n",
      ">4 f([0.31158984]) = 0.09709\n",
      ">5 f([0.24091393]) = 0.05804\n",
      ">6 f([0.18598321]) = 0.03459\n",
      ">7 f([0.14346634]) = 0.02058\n",
      ">8 f([0.11062599]) = 0.01224\n",
      ">9 f([0.08528625]) = 0.00727\n",
      ">10 f([0.06574425]) = 0.00432\n",
      ">11 f([0.05067746]) = 0.00257\n",
      ">12 f([0.03906257]) = 0.00153\n",
      ">13 f([0.03010935]) = 0.00091\n",
      ">14 f([0.02320807]) = 0.00054\n",
      ">15 f([0.01788856]) = 0.00032\n",
      ">16 f([0.01378831]) = 0.00019\n",
      ">17 f([0.01062787]) = 0.00011\n",
      ">18 f([0.00819184]) = 0.00007\n",
      ">19 f([0.00631417]) = 0.00004\n",
      ">20 f([0.00486688]) = 0.00002\n",
      ">21 f([0.00375134]) = 0.00001\n",
      ">22 f([0.00289148]) = 0.00001\n",
      ">23 f([0.00222872]) = 0.00000\n",
      ">24 f([0.00171787]) = 0.00000\n",
      ">25 f([0.00132411]) = 0.00000\n",
      ">26 f([0.00102061]) = 0.00000\n",
      ">27 f([0.00078667]) = 0.00000\n",
      ">28 f([0.00060636]) = 0.00000\n",
      ">29 f([0.00046737]) = 0.00000\n"
     ]
    },
    {
     "data": {
      "image/png": "[encoded data removed]",
      "text/plain": [
       "<Figure size 432x288 with 1 Axes>"
      ]
     },
     "metadata": {
      "needs_background": "light"
     },
     "output_type": "display_data"
    }
   ],
   "source": [
    "learn(OptimizerWithFastaiMomentum(dampening=True))"
   ]
  },
  {
   "cell_type": "markdown",
   "id": "4dff7846",
   "metadata": {},
   "source": [
    "# With \"naive\" momentum &darr;"
   ]
  },
  {
   "cell_type": "code",
   "execution_count": 12,
   "id": "06e537f0",
   "metadata": {},
   "outputs": [
    {
     "name": "stdout",
     "output_type": "stream",
     "text": [
      ">0 f([0.69120416]) = 0.47776\n",
      ">1 f([0.49467801]) = 0.24471\n",
      ">2 f([0.34857613]) = 0.12151\n",
      ">3 f([0.24379645]) = 0.05944\n",
      ">4 f([0.16989004]) = 0.02886\n",
      ">5 f([0.11817449]) = 0.01397\n",
      ">6 f([0.08212786]) = 0.00674\n",
      ">7 f([0.0570511]) = 0.00325\n",
      ">8 f([0.03962246]) = 0.00157\n",
      ">9 f([0.02751509]) = 0.00076\n",
      ">10 f([0.0191063]) = 0.00037\n",
      ">11 f([0.01326693]) = 0.00018\n",
      ">12 f([0.0092121]) = 0.00008\n",
      ">13 f([0.00639652]) = 0.00004\n",
      ">14 f([0.00444148]) = 0.00002\n",
      ">15 f([0.00308397]) = 0.00001\n",
      ">16 f([0.00214137]) = 0.00000\n",
      ">17 f([0.00148688]) = 0.00000\n",
      ">18 f([0.00103242]) = 0.00000\n",
      ">19 f([0.00071687]) = 0.00000\n",
      ">20 f([0.00049776]) = 0.00000\n",
      ">21 f([0.00034562]) = 0.00000\n",
      ">22 f([0.00023999]) = 0.00000\n",
      ">23 f([0.00016664]) = 0.00000\n",
      ">24 f([0.0001157]) = 0.00000\n",
      ">25 f([8.03401363e-05]) = 0.00000\n",
      ">26 f([5.57846523e-05]) = 0.00000\n",
      ">27 f([3.87344057e-05]) = 0.00000\n",
      ">28 f([2.68954654e-05]) = 0.00000\n",
      ">29 f([1.86750266e-05]) = 0.00000\n"
     ]
    },
    {
     "data": {
      "image/png": "[encoded data removed]",
      "text/plain": [
       "<Figure size 432x288 with 1 Axes>"
      ]
     },
     "metadata": {
      "needs_background": "light"
     },
     "output_type": "display_data"
    }
   ],
   "source": [
    "learn(OptimizerWithNaiveMomentum())"
   ]
  },
  {
   "cell_type": "markdown",
   "id": "6de95efc",
   "metadata": {},
   "source": [
    "# What have we learned so far?\n",
    "\n",
    "It don't think it makes sense to read too much into the different momentum implementations using this problem - because our objective function is smooth. \n",
    "\n",
    "Having said that ... we can see that\n",
    "- \"Brownlee\" momentum converges fastest\n",
    "- momentum with dampening takes the longest to converge - but is still faster than no momentum\n",
    "- \"Naive\" momentum takes just a little longer than \"Brownlee\"\n",
    "\n",
    "TODO: See if we can do something similar with a more complicated problem with a bumpy loss surface [Visualizing the Loss Landscape of Neural Nets](https://proceedings.neurips.cc/paper/2018/file/a41b3bb3e6b050b6c9067c67f663b915-Paper.pdf)."
   ]
  }
 ],
 "metadata": {
  "kernelspec": {
   "display_name": "Python 3",
   "language": "python",
   "name": "python3"
  },
  "language_info": {
   "codemirror_mode": {
    "name": "ipython",
    "version": 3
   },
   "file_extension": ".py",
   "mimetype": "text/x-python",
   "name": "python",
   "nbconvert_exporter": "python",
   "pygments_lexer": "ipython3",
   "version": "3.9.0"
  }
 },
 "nbformat": 4,
 "nbformat_minor": 5
}
